{
 "cells": [
  {
   "cell_type": "code",
   "execution_count": 34,
   "metadata": {
    "collapsed": true
   },
   "outputs": [],
   "source": [
    "import pandas as pd\n",
    "import numpy as np"
   ]
  },
  {
   "cell_type": "code",
   "execution_count": 35,
   "metadata": {},
   "outputs": [
    {
     "data": {
      "text/html": [
       "<div>\n",
       "<style>\n",
       "    .dataframe thead tr:only-child th {\n",
       "        text-align: right;\n",
       "    }\n",
       "\n",
       "    .dataframe thead th {\n",
       "        text-align: left;\n",
       "    }\n",
       "\n",
       "    .dataframe tbody tr th {\n",
       "        vertical-align: top;\n",
       "    }\n",
       "</style>\n",
       "<table border=\"1\" class=\"dataframe\">\n",
       "  <thead>\n",
       "    <tr style=\"text-align: right;\">\n",
       "      <th></th>\n",
       "      <th>국가</th>\n",
       "      <th>2015년</th>\n",
       "      <th>2016년</th>\n",
       "      <th>2017년</th>\n",
       "    </tr>\n",
       "  </thead>\n",
       "  <tbody>\n",
       "    <tr>\n",
       "      <th>0</th>\n",
       "      <td>호주</td>\n",
       "      <td>9.20</td>\n",
       "      <td>8.54</td>\n",
       "      <td>8.52</td>\n",
       "    </tr>\n",
       "    <tr>\n",
       "      <th>1</th>\n",
       "      <td>영국</td>\n",
       "      <td>10.74</td>\n",
       "      <td>10.49</td>\n",
       "      <td>10.44</td>\n",
       "    </tr>\n",
       "    <tr>\n",
       "      <th>2</th>\n",
       "      <td>미국</td>\n",
       "      <td>8.02</td>\n",
       "      <td>7.38</td>\n",
       "      <td>7.36</td>\n",
       "    </tr>\n",
       "    <tr>\n",
       "      <th>3</th>\n",
       "      <td>프랑스</td>\n",
       "      <td>12.83</td>\n",
       "      <td>11.98</td>\n",
       "      <td>11.96</td>\n",
       "    </tr>\n",
       "    <tr>\n",
       "      <th>4</th>\n",
       "      <td>멕시코</td>\n",
       "      <td>22.59</td>\n",
       "      <td>21.26</td>\n",
       "      <td>21.24</td>\n",
       "    </tr>\n",
       "    <tr>\n",
       "      <th>5</th>\n",
       "      <td>독일</td>\n",
       "      <td>12.98</td>\n",
       "      <td>12.09</td>\n",
       "      <td>12.09</td>\n",
       "    </tr>\n",
       "    <tr>\n",
       "      <th>6</th>\n",
       "      <td>일본</td>\n",
       "      <td>12.89</td>\n",
       "      <td>11.79</td>\n",
       "      <td>11.86</td>\n",
       "    </tr>\n",
       "    <tr>\n",
       "      <th>7</th>\n",
       "      <td>이탈리아</td>\n",
       "      <td>17.68</td>\n",
       "      <td>16.34</td>\n",
       "      <td>16.50</td>\n",
       "    </tr>\n",
       "    <tr>\n",
       "      <th>8</th>\n",
       "      <td>한국</td>\n",
       "      <td>28.06</td>\n",
       "      <td>25.00</td>\n",
       "      <td>25.14</td>\n",
       "    </tr>\n",
       "    <tr>\n",
       "      <th>9</th>\n",
       "      <td>OECD평균</td>\n",
       "      <td>13.45</td>\n",
       "      <td>12.49</td>\n",
       "      <td>12.50</td>\n",
       "    </tr>\n",
       "  </tbody>\n",
       "</table>\n",
       "</div>"
      ],
      "text/plain": [
       "       국가  2015년  2016년  2017년\n",
       "0      호주   9.20   8.54   8.52\n",
       "1      영국  10.74  10.49  10.44\n",
       "2      미국   8.02   7.38   7.36\n",
       "3     프랑스  12.83  11.98  11.96\n",
       "4     멕시코  22.59  21.26  21.24\n",
       "5      독일  12.98  12.09  12.09\n",
       "6      일본  12.89  11.79  11.86\n",
       "7    이탈리아  17.68  16.34  16.50\n",
       "8      한국  28.06  25.00  25.14\n",
       "9  OECD평균  13.45  12.49  12.50"
      ]
     },
     "execution_count": 35,
     "metadata": {},
     "output_type": "execute_result"
    }
   ],
   "source": [
    "world = pd.read_excel(r'C:\\Users\\USER\\Desktop\\프로젝트\\csv\\OECD\\oecd.xls', encoding='UTF-8')\n",
    "world"
   ]
  },
  {
   "cell_type": "code",
   "execution_count": 36,
   "metadata": {
    "collapsed": true
   },
   "outputs": [],
   "source": [
    "import matplotlib.pyplot as plt\n",
    "\n",
    "%matplotlib inline\n",
    "\n",
    "import platform\n",
    "\n",
    "path = \"c:/Windows/Fonts/malgun.ttf\"\n",
    "from matplotlib import font_manager, rc\n",
    "if platform.system() == 'Darwin':\n",
    "    rc('font', family='AppleGothic')\n",
    "elif platform.system() == 'Windows':\n",
    "    font_name = font_manager.FontProperties(fname=path).get_name()\n",
    "    rc('font', family=font_name)\n",
    "else:\n",
    "    print('Unknown system... sorry~~~~') \n",
    "\n",
    "import pandas as pd\n",
    "import numpy as np"
   ]
  },
  {
   "cell_type": "code",
   "execution_count": 37,
   "metadata": {},
   "outputs": [
    {
     "data": {
      "text/plain": [
       "<function matplotlib.pyplot.show>"
      ]
     },
     "execution_count": 37,
     "metadata": {},
     "output_type": "execute_result"
    },
    {
     "data": {
      "image/png": "[encoded data removed]",
      "text/plain": [
       "<Figure size 504x432 with 1 Axes>"
      ]
     },
     "metadata": {},
     "output_type": "display_data"
    }
   ],
   "source": [
    "width = 0.25\n",
    "\n",
    "a = np.array([world['2015년'], world['2016년'], world['2017년']])\n",
    "\n",
    "X = np.arange(10)\n",
    "\n",
    "plt.figure(figsize=(7, 6))\n",
    "p1 = plt.bar(X+0.0, a[0], width, color='b')\n",
    "p2 = plt.bar(X+0.25, a[1], width, color='r')\n",
    "p3 = plt.bar(X+0.5, a[2], width, color='g')\n",
    "plt.ylabel('PM2.5수치')\n",
    "plt.title('최근 3년 OECD 9개국의 PM2.5 수치')\n",
    "plt.xticks(X + width, ('호주', '영국', '미국', '프랑스', '멕시코', '독일', '일본', '이탈리아', '한국', 'OECD평균'))\n",
    "plt.legend((p1[0], p2[0], p3[0]), ('2015', '2016', '2017'))\n",
    "plt.show\n",
    "\n"
   ]
  },
  {
   "cell_type": "code",
   "execution_count": null,
   "metadata": {
    "collapsed": true
   },
   "outputs": [],
   "source": []
  }
 ],
 "metadata": {
  "kernelspec": {
   "display_name": "Python 3",
   "language": "python",
   "name": "python3"
  },
  "language_info": {
   "codemirror_mode": {
    "name": "ipython",
    "version": 3
   },
   "file_extension": ".py",
   "mimetype": "text/x-python",
   "name": "python",
   "nbconvert_exporter": "python",
   "pygments_lexer": "ipython3",
   "version": "3.6.2"
  }
 },
 "nbformat": 4,
 "nbformat_minor": 2
}

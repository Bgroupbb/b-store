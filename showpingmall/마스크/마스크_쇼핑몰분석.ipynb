{
 "cells": [
  {
   "cell_type": "code",
   "execution_count": 1,
   "metadata": {
    "collapsed": true
   },
   "outputs": [],
   "source": [
    "import pandas as pd\n",
    "import numpy as np"
   ]
  },
  {
   "cell_type": "code",
   "execution_count": 3,
   "metadata": {},
   "outputs": [
    {
     "data": {
      "text/html": [
       "<div>\n",
       "<style>\n",
       "    .dataframe thead tr:only-child th {\n",
       "        text-align: right;\n",
       "    }\n",
       "\n",
       "    .dataframe thead th {\n",
       "        text-align: left;\n",
       "    }\n",
       "\n",
       "    .dataframe tbody tr th {\n",
       "        vertical-align: top;\n",
       "    }\n",
       "</style>\n",
       "<table border=\"1\" class=\"dataframe\">\n",
       "  <thead>\n",
       "    <tr style=\"text-align: right;\">\n",
       "      <th></th>\n",
       "      <th>name</th>\n",
       "      <th>price</th>\n",
       "      <th>points</th>\n",
       "      <th>reviews</th>\n",
       "      <th>pricecs</th>\n",
       "      <th>company</th>\n",
       "      <th>count</th>\n",
       "    </tr>\n",
       "  </thead>\n",
       "  <tbody>\n",
       "    <tr>\n",
       "      <th>0</th>\n",
       "      <td>파인텍 네퓨어 황사방역용 마스크 KF94 대형 (1개입)</td>\n",
       "      <td>610</td>\n",
       "      <td>92.0</td>\n",
       "      <td>356</td>\n",
       "      <td>114</td>\n",
       "      <td>파인텍</td>\n",
       "      <td>1</td>\n",
       "    </tr>\n",
       "    <tr>\n",
       "      <th>1</th>\n",
       "      <td>아보브네이처 애니쉴드 황사 방역마스크 화이트 KF94 대형 (1개입)</td>\n",
       "      <td>550</td>\n",
       "      <td>93.0</td>\n",
       "      <td>121</td>\n",
       "      <td>40</td>\n",
       "      <td>아보브네이처</td>\n",
       "      <td>1</td>\n",
       "    </tr>\n",
       "    <tr>\n",
       "      <th>2</th>\n",
       "      <td>한국OGK 에어가드 KF94</td>\n",
       "      <td>17020</td>\n",
       "      <td>87.0</td>\n",
       "      <td>126</td>\n",
       "      <td>59</td>\n",
       "      <td>기타</td>\n",
       "      <td>1</td>\n",
       "    </tr>\n",
       "    <tr>\n",
       "      <th>3</th>\n",
       "      <td>유한킴벌리 크리넥스 방역용마스크 KF94 대형 (1개입)</td>\n",
       "      <td>1110</td>\n",
       "      <td>94.0</td>\n",
       "      <td>272</td>\n",
       "      <td>132</td>\n",
       "      <td>유한킴벌리</td>\n",
       "      <td>1</td>\n",
       "    </tr>\n",
       "    <tr>\n",
       "      <th>4</th>\n",
       "      <td>아보브네이처 닥터쉴드 황사방역용 마스크 KF94 대형 (1개입)</td>\n",
       "      <td>570</td>\n",
       "      <td>100.0</td>\n",
       "      <td>3</td>\n",
       "      <td>8</td>\n",
       "      <td>아보브네이처</td>\n",
       "      <td>1</td>\n",
       "    </tr>\n",
       "  </tbody>\n",
       "</table>\n",
       "</div>"
      ],
      "text/plain": [
       "                                     name  price  points  reviews  pricecs  \\\n",
       "0         파인텍 네퓨어 황사방역용 마스크 KF94 대형 (1개입)    610    92.0      356      114   \n",
       "1  아보브네이처 애니쉴드 황사 방역마스크 화이트 KF94 대형 (1개입)    550    93.0      121       40   \n",
       "2                         한국OGK 에어가드 KF94  17020    87.0      126       59   \n",
       "3         유한킴벌리 크리넥스 방역용마스크 KF94 대형 (1개입)   1110    94.0      272      132   \n",
       "4     아보브네이처 닥터쉴드 황사방역용 마스크 KF94 대형 (1개입)    570   100.0        3        8   \n",
       "\n",
       "  company  count  \n",
       "0     파인텍      1  \n",
       "1  아보브네이처      1  \n",
       "2      기타      1  \n",
       "3   유한킴벌리      1  \n",
       "4  아보브네이처      1  "
      ]
     },
     "execution_count": 3,
     "metadata": {},
     "output_type": "execute_result"
    }
   ],
   "source": [
    "df = pd.read_excel (r'C:\\Users\\USER\\Desktop\\프로젝트\\csv\\크롤링파일\\마스크\\top90_mask.xlsx', encoding = 'utf-8')\n",
    "df.head()"
   ]
  },
  {
   "cell_type": "code",
   "execution_count": 4,
   "metadata": {
    "collapsed": true
   },
   "outputs": [],
   "source": [
    "df.set_index('company', inplace=True)"
   ]
  },
  {
   "cell_type": "code",
   "execution_count": 5,
   "metadata": {},
   "outputs": [
    {
     "data": {
      "text/html": [
       "<div>\n",
       "<style>\n",
       "    .dataframe thead tr:only-child th {\n",
       "        text-align: right;\n",
       "    }\n",
       "\n",
       "    .dataframe thead th {\n",
       "        text-align: left;\n",
       "    }\n",
       "\n",
       "    .dataframe tbody tr th {\n",
       "        vertical-align: top;\n",
       "    }\n",
       "</style>\n",
       "<table border=\"1\" class=\"dataframe\">\n",
       "  <thead>\n",
       "    <tr style=\"text-align: right;\">\n",
       "      <th></th>\n",
       "      <th>count</th>\n",
       "    </tr>\n",
       "    <tr>\n",
       "      <th>company</th>\n",
       "      <th></th>\n",
       "    </tr>\n",
       "  </thead>\n",
       "  <tbody>\n",
       "    <tr>\n",
       "      <th>3M</th>\n",
       "      <td>20</td>\n",
       "    </tr>\n",
       "    <tr>\n",
       "      <th>LG생활건강</th>\n",
       "      <td>2</td>\n",
       "    </tr>\n",
       "    <tr>\n",
       "      <th>기타</th>\n",
       "      <td>29</td>\n",
       "    </tr>\n",
       "    <tr>\n",
       "      <th>도부라이프텍</th>\n",
       "      <td>3</td>\n",
       "    </tr>\n",
       "    <tr>\n",
       "      <th>듀폰</th>\n",
       "      <td>2</td>\n",
       "    </tr>\n",
       "    <tr>\n",
       "      <th>샤오미</th>\n",
       "      <td>4</td>\n",
       "    </tr>\n",
       "    <tr>\n",
       "      <th>아보브네이처</th>\n",
       "      <td>3</td>\n",
       "    </tr>\n",
       "    <tr>\n",
       "      <th>에버그린</th>\n",
       "      <td>3</td>\n",
       "    </tr>\n",
       "    <tr>\n",
       "      <th>웰킵스</th>\n",
       "      <td>2</td>\n",
       "    </tr>\n",
       "    <tr>\n",
       "      <th>유한킴벌리</th>\n",
       "      <td>9</td>\n",
       "    </tr>\n",
       "    <tr>\n",
       "      <th>장정산업</th>\n",
       "      <td>4</td>\n",
       "    </tr>\n",
       "    <tr>\n",
       "      <th>케이에프마스크</th>\n",
       "      <td>2</td>\n",
       "    </tr>\n",
       "    <tr>\n",
       "      <th>크린웰</th>\n",
       "      <td>2</td>\n",
       "    </tr>\n",
       "    <tr>\n",
       "      <th>파인텍</th>\n",
       "      <td>3</td>\n",
       "    </tr>\n",
       "    <tr>\n",
       "      <th>하늘숨</th>\n",
       "      <td>2</td>\n",
       "    </tr>\n",
       "  </tbody>\n",
       "</table>\n",
       "</div>"
      ],
      "text/plain": [
       "         count\n",
       "company       \n",
       "3M          20\n",
       "LG생활건강       2\n",
       "기타          29\n",
       "도부라이프텍       3\n",
       "듀폰           2\n",
       "샤오미          4\n",
       "아보브네이처       3\n",
       "에버그린         3\n",
       "웰킵스          2\n",
       "유한킴벌리        9\n",
       "장정산업         4\n",
       "케이에프마스크      2\n",
       "크린웰          2\n",
       "파인텍          3\n",
       "하늘숨          2"
      ]
     },
     "execution_count": 5,
     "metadata": {},
     "output_type": "execute_result"
    }
   ],
   "source": [
    "df.groupby('company').count()[['count']]"
   ]
  },
  {
   "cell_type": "code",
   "execution_count": 6,
   "metadata": {},
   "outputs": [
    {
     "data": {
      "text/html": [
       "<div>\n",
       "<style>\n",
       "    .dataframe thead tr:only-child th {\n",
       "        text-align: right;\n",
       "    }\n",
       "\n",
       "    .dataframe thead th {\n",
       "        text-align: left;\n",
       "    }\n",
       "\n",
       "    .dataframe tbody tr th {\n",
       "        vertical-align: top;\n",
       "    }\n",
       "</style>\n",
       "<table border=\"1\" class=\"dataframe\">\n",
       "  <thead>\n",
       "    <tr style=\"text-align: right;\">\n",
       "      <th></th>\n",
       "      <th>3M</th>\n",
       "      <th>LG생활건강</th>\n",
       "      <th>도부라이프텍</th>\n",
       "      <th>듀폰</th>\n",
       "      <th>샤오미</th>\n",
       "      <th>아보브네이처</th>\n",
       "      <th>에버그린</th>\n",
       "      <th>웰킵스</th>\n",
       "      <th>유한킴벌리</th>\n",
       "      <th>장정산업</th>\n",
       "      <th>케이에프마스크</th>\n",
       "      <th>크린웰</th>\n",
       "      <th>파인텍</th>\n",
       "      <th>하늘숨</th>\n",
       "    </tr>\n",
       "    <tr>\n",
       "      <th>company</th>\n",
       "      <th></th>\n",
       "      <th></th>\n",
       "      <th></th>\n",
       "      <th></th>\n",
       "      <th></th>\n",
       "      <th></th>\n",
       "      <th></th>\n",
       "      <th></th>\n",
       "      <th></th>\n",
       "      <th></th>\n",
       "      <th></th>\n",
       "      <th></th>\n",
       "      <th></th>\n",
       "      <th></th>\n",
       "    </tr>\n",
       "  </thead>\n",
       "  <tbody>\n",
       "    <tr>\n",
       "      <th>count</th>\n",
       "      <td>20</td>\n",
       "      <td>2</td>\n",
       "      <td>3</td>\n",
       "      <td>2</td>\n",
       "      <td>4</td>\n",
       "      <td>3</td>\n",
       "      <td>3</td>\n",
       "      <td>2</td>\n",
       "      <td>9</td>\n",
       "      <td>4</td>\n",
       "      <td>2</td>\n",
       "      <td>2</td>\n",
       "      <td>3</td>\n",
       "      <td>2</td>\n",
       "    </tr>\n",
       "  </tbody>\n",
       "</table>\n",
       "</div>"
      ],
      "text/plain": [
       "         3M  LG생활건강  도부라이프텍  듀폰  샤오미  아보브네이처  에버그린  웰킵스  유한킴벌리  장정산업  케이에프마스크  \\\n",
       "company                                                                         \n",
       "count    20       2       3   2    4       3     3    2      9     4        2   \n",
       "\n",
       "         크린웰  파인텍  하늘숨  \n",
       "company                 \n",
       "count      2    3    2  "
      ]
     },
     "execution_count": 6,
     "metadata": {},
     "output_type": "execute_result"
    }
   ],
   "source": [
    "cc = pd.read_excel (r'C:\\Users\\USER\\Desktop\\프로젝트\\csv\\크롤링파일\\마스크\\companycount.xlsx',encoding = 'utf-8')\n",
    "cc.set_index('company', inplace=True)\n",
    "cc"
   ]
  },
  {
   "cell_type": "code",
   "execution_count": 7,
   "metadata": {
    "collapsed": true
   },
   "outputs": [],
   "source": [
    "import matplotlib.pyplot as plt\n",
    "\n",
    "%matplotlib inline\n",
    "\n",
    "import platform\n",
    "\n",
    "path = \"c:/Windows/Fonts/malgun.ttf\"\n",
    "from matplotlib import font_manager, rc\n",
    "if platform.system() == 'Darwin':\n",
    "    rc('font', family='AppleGothic')\n",
    "elif platform.system() == 'Windows':\n",
    "    font_name = font_manager.FontProperties(fname=path).get_name()\n",
    "    rc('font', family=font_name)\n",
    "else:\n",
    "    print('Unknown system... sorry~~~~') "
   ]
  },
  {
   "cell_type": "code",
   "execution_count": 8,
   "metadata": {},
   "outputs": [
    {
     "data": {
      "text/html": [
       "<div>\n",
       "<style>\n",
       "    .dataframe thead tr:only-child th {\n",
       "        text-align: right;\n",
       "    }\n",
       "\n",
       "    .dataframe thead th {\n",
       "        text-align: left;\n",
       "    }\n",
       "\n",
       "    .dataframe tbody tr th {\n",
       "        vertical-align: top;\n",
       "    }\n",
       "</style>\n",
       "<table border=\"1\" class=\"dataframe\">\n",
       "  <thead>\n",
       "    <tr style=\"text-align: right;\">\n",
       "      <th></th>\n",
       "      <th>count</th>\n",
       "    </tr>\n",
       "    <tr>\n",
       "      <th>company</th>\n",
       "      <th></th>\n",
       "    </tr>\n",
       "  </thead>\n",
       "  <tbody>\n",
       "    <tr>\n",
       "      <th>3M</th>\n",
       "      <td>20</td>\n",
       "    </tr>\n",
       "    <tr>\n",
       "      <th>LG생활건강</th>\n",
       "      <td>2</td>\n",
       "    </tr>\n",
       "    <tr>\n",
       "      <th>도부라이프텍</th>\n",
       "      <td>3</td>\n",
       "    </tr>\n",
       "    <tr>\n",
       "      <th>듀폰</th>\n",
       "      <td>2</td>\n",
       "    </tr>\n",
       "    <tr>\n",
       "      <th>샤오미</th>\n",
       "      <td>4</td>\n",
       "    </tr>\n",
       "    <tr>\n",
       "      <th>아보브네이처</th>\n",
       "      <td>3</td>\n",
       "    </tr>\n",
       "    <tr>\n",
       "      <th>에버그린</th>\n",
       "      <td>3</td>\n",
       "    </tr>\n",
       "    <tr>\n",
       "      <th>웰킵스</th>\n",
       "      <td>2</td>\n",
       "    </tr>\n",
       "    <tr>\n",
       "      <th>유한킴벌리</th>\n",
       "      <td>9</td>\n",
       "    </tr>\n",
       "    <tr>\n",
       "      <th>장정산업</th>\n",
       "      <td>4</td>\n",
       "    </tr>\n",
       "    <tr>\n",
       "      <th>케이에프마스크</th>\n",
       "      <td>2</td>\n",
       "    </tr>\n",
       "    <tr>\n",
       "      <th>크린웰</th>\n",
       "      <td>2</td>\n",
       "    </tr>\n",
       "    <tr>\n",
       "      <th>파인텍</th>\n",
       "      <td>3</td>\n",
       "    </tr>\n",
       "    <tr>\n",
       "      <th>하늘숨</th>\n",
       "      <td>2</td>\n",
       "    </tr>\n",
       "  </tbody>\n",
       "</table>\n",
       "</div>"
      ],
      "text/plain": [
       "         count\n",
       "company       \n",
       "3M          20\n",
       "LG생활건강       2\n",
       "도부라이프텍       3\n",
       "듀폰           2\n",
       "샤오미          4\n",
       "아보브네이처       3\n",
       "에버그린         3\n",
       "웰킵스          2\n",
       "유한킴벌리        9\n",
       "장정산업         4\n",
       "케이에프마스크      2\n",
       "크린웰          2\n",
       "파인텍          3\n",
       "하늘숨          2"
      ]
     },
     "execution_count": 8,
     "metadata": {},
     "output_type": "execute_result"
    }
   ],
   "source": [
    "cc2 = pd.read_excel (r'C:\\Users\\USER\\Desktop\\프로젝트\\csv\\크롤링파일\\마스크\\companycount2.xlsx',encoding = 'utf-8')\n",
    "cc2.set_index('company', inplace=True)\n",
    "cc2"
   ]
  },
  {
   "cell_type": "code",
   "execution_count": 9,
   "metadata": {},
   "outputs": [
    {
     "data": {
      "image/png": "[encoded data removed]",
      "text/plain": [
       "<Figure size 648x576 with 1 Axes>"
      ]
     },
     "metadata": {},
     "output_type": "display_data"
    }
   ],
   "source": [
    "cc2['count'].sort_values().plot(kind='barh', figsize=(9,8))\n",
    "plt.title('TOP90 중 회사별 제품개수')\n",
    "plt.ylabel('회사명')\n",
    "plt.xlabel('제품개수')\n",
    "plt.show()"
   ]
  },
  {
   "cell_type": "code",
   "execution_count": 11,
   "metadata": {},
   "outputs": [
    {
     "data": {
      "text/html": [
       "<div>\n",
       "<style>\n",
       "    .dataframe thead tr:only-child th {\n",
       "        text-align: right;\n",
       "    }\n",
       "\n",
       "    .dataframe thead th {\n",
       "        text-align: left;\n",
       "    }\n",
       "\n",
       "    .dataframe tbody tr th {\n",
       "        vertical-align: top;\n",
       "    }\n",
       "</style>\n",
       "<table border=\"1\" class=\"dataframe\">\n",
       "  <thead>\n",
       "    <tr>\n",
       "      <th></th>\n",
       "      <th colspan=\"15\" halign=\"left\">mean</th>\n",
       "    </tr>\n",
       "    <tr>\n",
       "      <th>company</th>\n",
       "      <th>3M</th>\n",
       "      <th>LG생활건강</th>\n",
       "      <th>기타</th>\n",
       "      <th>도부라이프텍</th>\n",
       "      <th>듀폰</th>\n",
       "      <th>샤오미</th>\n",
       "      <th>아보브네이처</th>\n",
       "      <th>에버그린</th>\n",
       "      <th>웰킵스</th>\n",
       "      <th>유한킴벌리</th>\n",
       "      <th>장정산업</th>\n",
       "      <th>케이에프마스크</th>\n",
       "      <th>크린웰</th>\n",
       "      <th>파인텍</th>\n",
       "      <th>하늘숨</th>\n",
       "    </tr>\n",
       "  </thead>\n",
       "  <tbody>\n",
       "    <tr>\n",
       "      <th>points</th>\n",
       "      <td>93.611111</td>\n",
       "      <td>97.5</td>\n",
       "      <td>92.692308</td>\n",
       "      <td>98.0</td>\n",
       "      <td>92.0</td>\n",
       "      <td>75.666667</td>\n",
       "      <td>95.333333</td>\n",
       "      <td>94.0</td>\n",
       "      <td>93.0</td>\n",
       "      <td>93.25</td>\n",
       "      <td>93.75</td>\n",
       "      <td>94.5</td>\n",
       "      <td>100.0</td>\n",
       "      <td>96.0</td>\n",
       "      <td>87.0</td>\n",
       "    </tr>\n",
       "  </tbody>\n",
       "</table>\n",
       "</div>"
      ],
      "text/plain": [
       "              mean                                                             \\\n",
       "company         3M LG생활건강         기타 도부라이프텍    듀폰        샤오미     아보브네이처  에버그린   \n",
       "points   93.611111   97.5  92.692308   98.0  92.0  75.666667  95.333333  94.0   \n",
       "\n",
       "                                                        \n",
       "company   웰킵스  유한킴벌리   장정산업 케이에프마스크    크린웰   파인텍   하늘숨  \n",
       "points   93.0  93.25  93.75    94.5  100.0  96.0  87.0  "
      ]
     },
     "execution_count": 11,
     "metadata": {},
     "output_type": "execute_result"
    }
   ],
   "source": [
    "pv = pd.pivot_table(df, columns=[\"company\"], values=['points'], aggfunc=[np.mean], fill_value=0)\n",
    "pv "
   ]
  },
  {
   "cell_type": "code",
   "execution_count": 12,
   "metadata": {
    "collapsed": true
   },
   "outputs": [],
   "source": [
    "pv.to_excel(r'C:\\Users\\USER\\Desktop\\프로젝트\\csv\\크롤링파일\\마스크\\companypoint.xlsx', encoding='UTF-8')"
   ]
  },
  {
   "cell_type": "code",
   "execution_count": 16,
   "metadata": {},
   "outputs": [
    {
     "data": {
      "text/html": [
       "<div>\n",
       "<style>\n",
       "    .dataframe thead tr:only-child th {\n",
       "        text-align: right;\n",
       "    }\n",
       "\n",
       "    .dataframe thead th {\n",
       "        text-align: left;\n",
       "    }\n",
       "\n",
       "    .dataframe tbody tr th {\n",
       "        vertical-align: top;\n",
       "    }\n",
       "</style>\n",
       "<table border=\"1\" class=\"dataframe\">\n",
       "  <thead>\n",
       "    <tr style=\"text-align: right;\">\n",
       "      <th></th>\n",
       "      <th>points</th>\n",
       "    </tr>\n",
       "    <tr>\n",
       "      <th>company</th>\n",
       "      <th></th>\n",
       "    </tr>\n",
       "  </thead>\n",
       "  <tbody>\n",
       "    <tr>\n",
       "      <th>3M</th>\n",
       "      <td>93.611111</td>\n",
       "    </tr>\n",
       "    <tr>\n",
       "      <th>LG생활건강</th>\n",
       "      <td>97.500000</td>\n",
       "    </tr>\n",
       "    <tr>\n",
       "      <th>도부라이프텍</th>\n",
       "      <td>98.000000</td>\n",
       "    </tr>\n",
       "    <tr>\n",
       "      <th>듀폰</th>\n",
       "      <td>92.000000</td>\n",
       "    </tr>\n",
       "    <tr>\n",
       "      <th>샤오미</th>\n",
       "      <td>75.666667</td>\n",
       "    </tr>\n",
       "  </tbody>\n",
       "</table>\n",
       "</div>"
      ],
      "text/plain": [
       "            points\n",
       "company           \n",
       "3M       93.611111\n",
       "LG생활건강   97.500000\n",
       "도부라이프텍   98.000000\n",
       "듀폰       92.000000\n",
       "샤오미      75.666667"
      ]
     },
     "execution_count": 16,
     "metadata": {},
     "output_type": "execute_result"
    }
   ],
   "source": [
    "cp = pd.read_excel(r'C:\\Users\\USER\\Desktop\\프로젝트\\csv\\크롤링파일\\마스크\\companypoint2.xlsx', encoding='UTF-8')\n",
    "cp.set_index('company', inplace=True)\n",
    "cp.head()"
   ]
  },
  {
   "cell_type": "code",
   "execution_count": 17,
   "metadata": {},
   "outputs": [
    {
     "data": {
      "image/png": "[encoded data removed]",
      "text/plain": [
       "<Figure size 648x576 with 1 Axes>"
      ]
     },
     "metadata": {},
     "output_type": "display_data"
    }
   ],
   "source": [
    "cp['points'].sort_values().plot(kind='barh', figsize=(9,8))\n",
    "plt.title('TOP90 중 회사별 평균 평점')\n",
    "plt.ylabel('회사명')\n",
    "plt.xlabel('평균평점')\n",
    "plt.show()"
   ]
  },
  {
   "cell_type": "code",
   "execution_count": 15,
   "metadata": {},
   "outputs": [
    {
     "data": {
      "text/html": [
       "<div>\n",
       "<style>\n",
       "    .dataframe thead tr:only-child th {\n",
       "        text-align: right;\n",
       "    }\n",
       "\n",
       "    .dataframe thead th {\n",
       "        text-align: left;\n",
       "    }\n",
       "\n",
       "    .dataframe tbody tr th {\n",
       "        vertical-align: top;\n",
       "    }\n",
       "</style>\n",
       "<table border=\"1\" class=\"dataframe\">\n",
       "  <thead>\n",
       "    <tr>\n",
       "      <th></th>\n",
       "      <th colspan=\"15\" halign=\"left\">mean</th>\n",
       "    </tr>\n",
       "    <tr>\n",
       "      <th>company</th>\n",
       "      <th>3M</th>\n",
       "      <th>LG생활건강</th>\n",
       "      <th>기타</th>\n",
       "      <th>도부라이프텍</th>\n",
       "      <th>듀폰</th>\n",
       "      <th>샤오미</th>\n",
       "      <th>아보브네이처</th>\n",
       "      <th>에버그린</th>\n",
       "      <th>웰킵스</th>\n",
       "      <th>유한킴벌리</th>\n",
       "      <th>장정산업</th>\n",
       "      <th>케이에프마스크</th>\n",
       "      <th>크린웰</th>\n",
       "      <th>파인텍</th>\n",
       "      <th>하늘숨</th>\n",
       "    </tr>\n",
       "  </thead>\n",
       "  <tbody>\n",
       "    <tr>\n",
       "      <th>reviews</th>\n",
       "      <td>141.45</td>\n",
       "      <td>11.0</td>\n",
       "      <td>107.310345</td>\n",
       "      <td>48.333333</td>\n",
       "      <td>25.5</td>\n",
       "      <td>59.75</td>\n",
       "      <td>62.0</td>\n",
       "      <td>42.0</td>\n",
       "      <td>176.0</td>\n",
       "      <td>263.555556</td>\n",
       "      <td>60.0</td>\n",
       "      <td>17.0</td>\n",
       "      <td>1.5</td>\n",
       "      <td>213.666667</td>\n",
       "      <td>1.5</td>\n",
       "    </tr>\n",
       "  </tbody>\n",
       "</table>\n",
       "</div>"
      ],
      "text/plain": [
       "           mean                                                          \\\n",
       "company      3M LG생활건강          기타     도부라이프텍    듀폰    샤오미 아보브네이처  에버그린   \n",
       "reviews  141.45   11.0  107.310345  48.333333  25.5  59.75   62.0  42.0   \n",
       "\n",
       "                                                                \n",
       "company    웰킵스       유한킴벌리  장정산업 케이에프마스크  크린웰         파인텍  하늘숨  \n",
       "reviews  176.0  263.555556  60.0    17.0  1.5  213.666667  1.5  "
      ]
     },
     "execution_count": 15,
     "metadata": {},
     "output_type": "execute_result"
    }
   ],
   "source": [
    "pv2 = pd.pivot_table(df, columns=[\"company\"], values=['reviews'], aggfunc=[np.mean], fill_value=0)\n",
    "pv2"
   ]
  },
  {
   "cell_type": "code",
   "execution_count": 18,
   "metadata": {
    "collapsed": true
   },
   "outputs": [],
   "source": [
    "pv2.to_excel(r'C:\\Users\\USER\\Desktop\\프로젝트\\csv\\크롤링파일\\마스크\\companyreviews.xlsx', encoding='UTF-8')"
   ]
  },
  {
   "cell_type": "code",
   "execution_count": 19,
   "metadata": {},
   "outputs": [
    {
     "data": {
      "text/html": [
       "<div>\n",
       "<style>\n",
       "    .dataframe thead tr:only-child th {\n",
       "        text-align: right;\n",
       "    }\n",
       "\n",
       "    .dataframe thead th {\n",
       "        text-align: left;\n",
       "    }\n",
       "\n",
       "    .dataframe tbody tr th {\n",
       "        vertical-align: top;\n",
       "    }\n",
       "</style>\n",
       "<table border=\"1\" class=\"dataframe\">\n",
       "  <thead>\n",
       "    <tr style=\"text-align: right;\">\n",
       "      <th></th>\n",
       "      <th>reviews</th>\n",
       "    </tr>\n",
       "    <tr>\n",
       "      <th>company</th>\n",
       "      <th></th>\n",
       "    </tr>\n",
       "  </thead>\n",
       "  <tbody>\n",
       "    <tr>\n",
       "      <th>3M</th>\n",
       "      <td>141.450000</td>\n",
       "    </tr>\n",
       "    <tr>\n",
       "      <th>LG생활건강</th>\n",
       "      <td>11.000000</td>\n",
       "    </tr>\n",
       "    <tr>\n",
       "      <th>도부라이프텍</th>\n",
       "      <td>48.333333</td>\n",
       "    </tr>\n",
       "    <tr>\n",
       "      <th>듀폰</th>\n",
       "      <td>25.500000</td>\n",
       "    </tr>\n",
       "    <tr>\n",
       "      <th>샤오미</th>\n",
       "      <td>59.750000</td>\n",
       "    </tr>\n",
       "  </tbody>\n",
       "</table>\n",
       "</div>"
      ],
      "text/plain": [
       "            reviews\n",
       "company            \n",
       "3M       141.450000\n",
       "LG생활건강    11.000000\n",
       "도부라이프텍    48.333333\n",
       "듀폰        25.500000\n",
       "샤오미       59.750000"
      ]
     },
     "execution_count": 19,
     "metadata": {},
     "output_type": "execute_result"
    }
   ],
   "source": [
    "cr = pd.read_excel(r'C:\\Users\\USER\\Desktop\\프로젝트\\csv\\크롤링파일\\마스크\\companyreviews2.xlsx', encoding='UTF-8')\n",
    "cr.set_index('company', inplace=True)\n",
    "cr.head()"
   ]
  },
  {
   "cell_type": "code",
   "execution_count": 20,
   "metadata": {},
   "outputs": [
    {
     "data": {
      "image/png": "[encoded data removed]",
      "text/plain": [
       "<Figure size 648x576 with 1 Axes>"
      ]
     },
     "metadata": {},
     "output_type": "display_data"
    }
   ],
   "source": [
    "cr['reviews'].sort_values().plot(kind='barh', figsize=(9,8))\n",
    "plt.title('TOP90 중 회사별 평균 리뷰수')\n",
    "plt.ylabel('회사명')\n",
    "plt.xlabel('평균리뷰수')\n",
    "plt.show()"
   ]
  },
  {
   "cell_type": "code",
   "execution_count": 21,
   "metadata": {},
   "outputs": [
    {
     "data": {
      "text/html": [
       "<div>\n",
       "<style>\n",
       "    .dataframe thead tr:only-child th {\n",
       "        text-align: right;\n",
       "    }\n",
       "\n",
       "    .dataframe thead th {\n",
       "        text-align: left;\n",
       "    }\n",
       "\n",
       "    .dataframe tbody tr th {\n",
       "        vertical-align: top;\n",
       "    }\n",
       "</style>\n",
       "<table border=\"1\" class=\"dataframe\">\n",
       "  <thead>\n",
       "    <tr>\n",
       "      <th></th>\n",
       "      <th colspan=\"15\" halign=\"left\">mean</th>\n",
       "    </tr>\n",
       "    <tr>\n",
       "      <th>company</th>\n",
       "      <th>3M</th>\n",
       "      <th>LG생활건강</th>\n",
       "      <th>기타</th>\n",
       "      <th>도부라이프텍</th>\n",
       "      <th>듀폰</th>\n",
       "      <th>샤오미</th>\n",
       "      <th>아보브네이처</th>\n",
       "      <th>에버그린</th>\n",
       "      <th>웰킵스</th>\n",
       "      <th>유한킴벌리</th>\n",
       "      <th>장정산업</th>\n",
       "      <th>케이에프마스크</th>\n",
       "      <th>크린웰</th>\n",
       "      <th>파인텍</th>\n",
       "      <th>하늘숨</th>\n",
       "    </tr>\n",
       "  </thead>\n",
       "  <tbody>\n",
       "    <tr>\n",
       "      <th>pricecs</th>\n",
       "      <td>187.45</td>\n",
       "      <td>12.5</td>\n",
       "      <td>20.241379</td>\n",
       "      <td>23.0</td>\n",
       "      <td>16.5</td>\n",
       "      <td>20.5</td>\n",
       "      <td>26.0</td>\n",
       "      <td>19.333333</td>\n",
       "      <td>15.5</td>\n",
       "      <td>104.333333</td>\n",
       "      <td>72.75</td>\n",
       "      <td>12.5</td>\n",
       "      <td>12.5</td>\n",
       "      <td>55.333333</td>\n",
       "      <td>14.0</td>\n",
       "    </tr>\n",
       "  </tbody>\n",
       "</table>\n",
       "</div>"
      ],
      "text/plain": [
       "           mean                                                               \\\n",
       "company      3M LG생활건강         기타 도부라이프텍    듀폰   샤오미 아보브네이처       에버그린   웰킵스   \n",
       "pricecs  187.45   12.5  20.241379   23.0  16.5  20.5   26.0  19.333333  15.5   \n",
       "\n",
       "                                                           \n",
       "company       유한킴벌리   장정산업 케이에프마스크   크린웰        파인텍   하늘숨  \n",
       "pricecs  104.333333  72.75    12.5  12.5  55.333333  14.0  "
      ]
     },
     "execution_count": 21,
     "metadata": {},
     "output_type": "execute_result"
    }
   ],
   "source": [
    "pv3 = pd.pivot_table(df, columns=[\"company\"], values=['pricecs'], aggfunc=[np.mean], fill_value=0)\n",
    "pv3"
   ]
  },
  {
   "cell_type": "code",
   "execution_count": 22,
   "metadata": {
    "collapsed": true
   },
   "outputs": [],
   "source": [
    "pv3.to_excel(r'C:\\Users\\USER\\Desktop\\프로젝트\\csv\\크롤링파일\\마스크\\companypcs.xlsx', encoding='UTF-8')"
   ]
  },
  {
   "cell_type": "code",
   "execution_count": 23,
   "metadata": {},
   "outputs": [
    {
     "data": {
      "text/html": [
       "<div>\n",
       "<style>\n",
       "    .dataframe thead tr:only-child th {\n",
       "        text-align: right;\n",
       "    }\n",
       "\n",
       "    .dataframe thead th {\n",
       "        text-align: left;\n",
       "    }\n",
       "\n",
       "    .dataframe tbody tr th {\n",
       "        vertical-align: top;\n",
       "    }\n",
       "</style>\n",
       "<table border=\"1\" class=\"dataframe\">\n",
       "  <thead>\n",
       "    <tr style=\"text-align: right;\">\n",
       "      <th></th>\n",
       "      <th>pricecs</th>\n",
       "    </tr>\n",
       "    <tr>\n",
       "      <th>company</th>\n",
       "      <th></th>\n",
       "    </tr>\n",
       "  </thead>\n",
       "  <tbody>\n",
       "    <tr>\n",
       "      <th>3M</th>\n",
       "      <td>187.45</td>\n",
       "    </tr>\n",
       "    <tr>\n",
       "      <th>LG생활건강</th>\n",
       "      <td>12.50</td>\n",
       "    </tr>\n",
       "    <tr>\n",
       "      <th>도부라이프텍</th>\n",
       "      <td>23.00</td>\n",
       "    </tr>\n",
       "    <tr>\n",
       "      <th>듀폰</th>\n",
       "      <td>16.50</td>\n",
       "    </tr>\n",
       "    <tr>\n",
       "      <th>샤오미</th>\n",
       "      <td>20.50</td>\n",
       "    </tr>\n",
       "  </tbody>\n",
       "</table>\n",
       "</div>"
      ],
      "text/plain": [
       "         pricecs\n",
       "company         \n",
       "3M        187.45\n",
       "LG생활건강     12.50\n",
       "도부라이프텍     23.00\n",
       "듀폰         16.50\n",
       "샤오미        20.50"
      ]
     },
     "execution_count": 23,
     "metadata": {},
     "output_type": "execute_result"
    }
   ],
   "source": [
    "cpcs = pd.read_excel(r'C:\\Users\\USER\\Desktop\\프로젝트\\csv\\크롤링파일\\마스크\\companypcs2.xlsx', encoding='UTF-8')\n",
    "cpcs.set_index('company', inplace=True)\n",
    "cpcs.head()"
   ]
  },
  {
   "cell_type": "code",
   "execution_count": 24,
   "metadata": {},
   "outputs": [
    {
     "data": {
      "image/png": "[encoded data removed]",
      "text/plain": [
       "<Figure size 648x576 with 1 Axes>"
      ]
     },
     "metadata": {},
     "output_type": "display_data"
    }
   ],
   "source": [
    "cpcs['pricecs'].sort_values().plot(kind='barh', figsize=(9,8))\n",
    "plt.title('TOP90 중 회사별 평균 가격비교쇼핑몰수')\n",
    "plt.ylabel('회사명')\n",
    "plt.xlabel('가격비교쇼핑몰수')\n",
    "plt.show()"
   ]
  },
  {
   "cell_type": "code",
   "execution_count": null,
   "metadata": {
    "collapsed": true
   },
   "outputs": [],
   "source": []
  }
 ],
 "metadata": {
  "kernelspec": {
   "display_name": "Python 3",
   "language": "python",
   "name": "python3"
  },
  "language_info": {
   "codemirror_mode": {
    "name": "ipython",
    "version": 3
   },
   "file_extension": ".py",
   "mimetype": "text/x-python",
   "name": "python",
   "nbconvert_exporter": "python",
   "pygments_lexer": "ipython3",
   "version": "3.6.2"
  }
 },
 "nbformat": 4,
 "nbformat_minor": 2
}

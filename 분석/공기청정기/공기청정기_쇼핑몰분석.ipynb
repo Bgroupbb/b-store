{
 "cells": [
  {
   "cell_type": "code",
   "execution_count": 39,
   "metadata": {
    "collapsed": true
   },
   "outputs": [],
   "source": [
    "import pandas as pd\n",
    "import numpy as np"
   ]
  },
  {
   "cell_type": "code",
   "execution_count": 40,
   "metadata": {
    "collapsed": true
   },
   "outputs": [],
   "source": [
    "df = pd.read_excel (r'C:\\Users\\USER\\Desktop\\프로젝트\\csv\\크롤링파일\\공기청정기\\top90_air.xlsx', encoding = 'utf-8')\n"
   ]
  },
  {
   "cell_type": "code",
   "execution_count": 41,
   "metadata": {
    "collapsed": true
   },
   "outputs": [],
   "source": [
    "df.head()\n",
    "df.set_index('company', inplace=True)"
   ]
  },
  {
   "cell_type": "code",
   "execution_count": 42,
   "metadata": {},
   "outputs": [
    {
     "data": {
      "text/html": [
       "<div>\n",
       "<style>\n",
       "    .dataframe thead tr:only-child th {\n",
       "        text-align: right;\n",
       "    }\n",
       "\n",
       "    .dataframe thead th {\n",
       "        text-align: left;\n",
       "    }\n",
       "\n",
       "    .dataframe tbody tr th {\n",
       "        vertical-align: top;\n",
       "    }\n",
       "</style>\n",
       "<table border=\"1\" class=\"dataframe\">\n",
       "  <thead>\n",
       "    <tr style=\"text-align: right;\">\n",
       "      <th></th>\n",
       "      <th>count</th>\n",
       "    </tr>\n",
       "    <tr>\n",
       "      <th>company</th>\n",
       "      <th></th>\n",
       "    </tr>\n",
       "  </thead>\n",
       "  <tbody>\n",
       "    <tr>\n",
       "      <th>LG전자</th>\n",
       "      <td>13</td>\n",
       "    </tr>\n",
       "    <tr>\n",
       "      <th>기타</th>\n",
       "      <td>11</td>\n",
       "    </tr>\n",
       "    <tr>\n",
       "      <th>다이슨</th>\n",
       "      <td>4</td>\n",
       "    </tr>\n",
       "    <tr>\n",
       "      <th>대유위니아</th>\n",
       "      <td>2</td>\n",
       "    </tr>\n",
       "    <tr>\n",
       "      <th>로엘</th>\n",
       "      <td>2</td>\n",
       "    </tr>\n",
       "    <tr>\n",
       "      <th>벤타</th>\n",
       "      <td>2</td>\n",
       "    </tr>\n",
       "    <tr>\n",
       "      <th>블루에어</th>\n",
       "      <td>2</td>\n",
       "    </tr>\n",
       "    <tr>\n",
       "      <th>삼성전자</th>\n",
       "      <td>27</td>\n",
       "    </tr>\n",
       "    <tr>\n",
       "      <th>삼지아이티</th>\n",
       "      <td>2</td>\n",
       "    </tr>\n",
       "    <tr>\n",
       "      <th>샤오미</th>\n",
       "      <td>4</td>\n",
       "    </tr>\n",
       "    <tr>\n",
       "      <th>위닉스</th>\n",
       "      <td>19</td>\n",
       "    </tr>\n",
       "    <tr>\n",
       "      <th>쿠쿠전자</th>\n",
       "      <td>2</td>\n",
       "    </tr>\n",
       "  </tbody>\n",
       "</table>\n",
       "</div>"
      ],
      "text/plain": [
       "         count\n",
       "company       \n",
       "LG전자        13\n",
       "기타          11\n",
       "다이슨          4\n",
       "대유위니아        2\n",
       "로엘           2\n",
       "벤타           2\n",
       "블루에어         2\n",
       "삼성전자        27\n",
       "삼지아이티        2\n",
       "샤오미          4\n",
       "위닉스         19\n",
       "쿠쿠전자         2"
      ]
     },
     "execution_count": 42,
     "metadata": {},
     "output_type": "execute_result"
    }
   ],
   "source": [
    "df.groupby('company').count()[['count']] "
   ]
  },
  {
   "cell_type": "code",
   "execution_count": 43,
   "metadata": {},
   "outputs": [
    {
     "data": {
      "text/html": [
       "<div>\n",
       "<style>\n",
       "    .dataframe thead tr:only-child th {\n",
       "        text-align: right;\n",
       "    }\n",
       "\n",
       "    .dataframe thead th {\n",
       "        text-align: left;\n",
       "    }\n",
       "\n",
       "    .dataframe tbody tr th {\n",
       "        vertical-align: top;\n",
       "    }\n",
       "</style>\n",
       "<table border=\"1\" class=\"dataframe\">\n",
       "  <thead>\n",
       "    <tr style=\"text-align: right;\">\n",
       "      <th></th>\n",
       "      <th>삼성전자</th>\n",
       "      <th>위닉스</th>\n",
       "      <th>LG전자</th>\n",
       "      <th>다이슨</th>\n",
       "      <th>샤오미</th>\n",
       "      <th>대유위니아</th>\n",
       "      <th>로엘</th>\n",
       "      <th>벤타</th>\n",
       "      <th>블루에어</th>\n",
       "      <th>삼지아이티</th>\n",
       "      <th>쿠쿠전자</th>\n",
       "      <th>기타</th>\n",
       "    </tr>\n",
       "    <tr>\n",
       "      <th>company</th>\n",
       "      <th></th>\n",
       "      <th></th>\n",
       "      <th></th>\n",
       "      <th></th>\n",
       "      <th></th>\n",
       "      <th></th>\n",
       "      <th></th>\n",
       "      <th></th>\n",
       "      <th></th>\n",
       "      <th></th>\n",
       "      <th></th>\n",
       "      <th></th>\n",
       "    </tr>\n",
       "  </thead>\n",
       "  <tbody>\n",
       "    <tr>\n",
       "      <th>count</th>\n",
       "      <td>27</td>\n",
       "      <td>19</td>\n",
       "      <td>13</td>\n",
       "      <td>4</td>\n",
       "      <td>4</td>\n",
       "      <td>2</td>\n",
       "      <td>2</td>\n",
       "      <td>2</td>\n",
       "      <td>2</td>\n",
       "      <td>2</td>\n",
       "      <td>2</td>\n",
       "      <td>11</td>\n",
       "    </tr>\n",
       "  </tbody>\n",
       "</table>\n",
       "</div>"
      ],
      "text/plain": [
       "         삼성전자  위닉스  LG전자  다이슨  샤오미  대유위니아  로엘  벤타  블루에어  삼지아이티  쿠쿠전자  기타\n",
       "company                                                                 \n",
       "count      27   19    13    4    4      2   2   2     2      2     2  11"
      ]
     },
     "execution_count": 43,
     "metadata": {},
     "output_type": "execute_result"
    }
   ],
   "source": [
    "cc = pd.read_excel (r'C:\\Users\\USER\\Desktop\\프로젝트\\csv\\크롤링파일\\공기청정기\\companycount.xlsx',encoding = 'utf-8')\n",
    "cc.set_index('company', inplace=True)\n",
    "cc"
   ]
  },
  {
   "cell_type": "code",
   "execution_count": 44,
   "metadata": {},
   "outputs": [
    {
     "data": {
      "text/html": [
       "<div>\n",
       "<style>\n",
       "    .dataframe thead tr:only-child th {\n",
       "        text-align: right;\n",
       "    }\n",
       "\n",
       "    .dataframe thead th {\n",
       "        text-align: left;\n",
       "    }\n",
       "\n",
       "    .dataframe tbody tr th {\n",
       "        vertical-align: top;\n",
       "    }\n",
       "</style>\n",
       "<table border=\"1\" class=\"dataframe\">\n",
       "  <thead>\n",
       "    <tr style=\"text-align: right;\">\n",
       "      <th></th>\n",
       "      <th>count</th>\n",
       "    </tr>\n",
       "    <tr>\n",
       "      <th>company</th>\n",
       "      <th></th>\n",
       "    </tr>\n",
       "  </thead>\n",
       "  <tbody>\n",
       "    <tr>\n",
       "      <th>LG전자</th>\n",
       "      <td>13</td>\n",
       "    </tr>\n",
       "    <tr>\n",
       "      <th>다이슨</th>\n",
       "      <td>4</td>\n",
       "    </tr>\n",
       "    <tr>\n",
       "      <th>대유위니아</th>\n",
       "      <td>2</td>\n",
       "    </tr>\n",
       "    <tr>\n",
       "      <th>로엘</th>\n",
       "      <td>2</td>\n",
       "    </tr>\n",
       "    <tr>\n",
       "      <th>벤타</th>\n",
       "      <td>2</td>\n",
       "    </tr>\n",
       "    <tr>\n",
       "      <th>블루에어</th>\n",
       "      <td>2</td>\n",
       "    </tr>\n",
       "    <tr>\n",
       "      <th>삼성전자</th>\n",
       "      <td>27</td>\n",
       "    </tr>\n",
       "    <tr>\n",
       "      <th>삼지아이티</th>\n",
       "      <td>2</td>\n",
       "    </tr>\n",
       "    <tr>\n",
       "      <th>샤오미</th>\n",
       "      <td>4</td>\n",
       "    </tr>\n",
       "    <tr>\n",
       "      <th>위닉스</th>\n",
       "      <td>19</td>\n",
       "    </tr>\n",
       "    <tr>\n",
       "      <th>쿠쿠전자</th>\n",
       "      <td>2</td>\n",
       "    </tr>\n",
       "  </tbody>\n",
       "</table>\n",
       "</div>"
      ],
      "text/plain": [
       "         count\n",
       "company       \n",
       "LG전자        13\n",
       "다이슨          4\n",
       "대유위니아        2\n",
       "로엘           2\n",
       "벤타           2\n",
       "블루에어         2\n",
       "삼성전자        27\n",
       "삼지아이티        2\n",
       "샤오미          4\n",
       "위닉스         19\n",
       "쿠쿠전자         2"
      ]
     },
     "execution_count": 44,
     "metadata": {},
     "output_type": "execute_result"
    }
   ],
   "source": [
    "cc2 = pd.read_excel (r'C:\\Users\\USER\\Desktop\\프로젝트\\csv\\크롤링파일\\공기청정기\\companycount2.xlsx',encoding = 'utf-8')\n",
    "cc2.set_index('company', inplace=True)\n",
    "cc2"
   ]
  },
  {
   "cell_type": "code",
   "execution_count": 45,
   "metadata": {
    "collapsed": true
   },
   "outputs": [],
   "source": [
    "import matplotlib.pyplot as plt\n",
    "\n",
    "%matplotlib inline\n",
    "\n",
    "import platform\n",
    "\n",
    "path = \"c:/Windows/Fonts/malgun.ttf\"\n",
    "from matplotlib import font_manager, rc\n",
    "if platform.system() == 'Darwin':\n",
    "    rc('font', family='AppleGothic')\n",
    "elif platform.system() == 'Windows':\n",
    "    font_name = font_manager.FontProperties(fname=path).get_name()\n",
    "    rc('font', family=font_name)\n",
    "else:\n",
    "    print('Unknown system... sorry~~~~') "
   ]
  },
  {
   "cell_type": "code",
   "execution_count": 46,
   "metadata": {},
   "outputs": [
    {
     "data": {
      "image/png": "[encoded data removed]",
      "text/plain": [
       "<Figure size 648x576 with 1 Axes>"
      ]
     },
     "metadata": {},
     "output_type": "display_data"
    }
   ],
   "source": [
    "cc2['count'].sort_values().plot(kind='barh', figsize=(9,8))\n",
    "plt.title('TOP90 중 회사별 제품개수')\n",
    "plt.ylabel('회사명')\n",
    "plt.xlabel('제품개수')\n",
    "plt.show()"
   ]
  },
  {
   "cell_type": "code",
   "execution_count": 47,
   "metadata": {},
   "outputs": [
    {
     "data": {
      "text/html": [
       "<div>\n",
       "<style>\n",
       "    .dataframe thead tr:only-child th {\n",
       "        text-align: right;\n",
       "    }\n",
       "\n",
       "    .dataframe thead th {\n",
       "        text-align: left;\n",
       "    }\n",
       "\n",
       "    .dataframe tbody tr th {\n",
       "        vertical-align: top;\n",
       "    }\n",
       "</style>\n",
       "<table border=\"1\" class=\"dataframe\">\n",
       "  <thead>\n",
       "    <tr style=\"text-align: right;\">\n",
       "      <th></th>\n",
       "      <th>name</th>\n",
       "      <th>price</th>\n",
       "      <th>points</th>\n",
       "      <th>reviews</th>\n",
       "      <th>pricecs</th>\n",
       "      <th>company</th>\n",
       "      <th>count</th>\n",
       "    </tr>\n",
       "  </thead>\n",
       "  <tbody>\n",
       "    <tr>\n",
       "      <th>0</th>\n",
       "      <td>위닉스 제로 AZBE380-HWK</td>\n",
       "      <td>215600</td>\n",
       "      <td>96</td>\n",
       "      <td>1939</td>\n",
       "      <td>157</td>\n",
       "      <td>위닉스</td>\n",
       "      <td>1</td>\n",
       "    </tr>\n",
       "    <tr>\n",
       "      <th>1</th>\n",
       "      <td>샤오미 미에어 프로</td>\n",
       "      <td>216060</td>\n",
       "      <td>95</td>\n",
       "      <td>368</td>\n",
       "      <td>108</td>\n",
       "      <td>샤오미</td>\n",
       "      <td>1</td>\n",
       "    </tr>\n",
       "    <tr>\n",
       "      <th>2</th>\n",
       "      <td>삼성전자 블루스카이 AX60N5580WDD</td>\n",
       "      <td>387990</td>\n",
       "      <td>94</td>\n",
       "      <td>1086</td>\n",
       "      <td>199</td>\n",
       "      <td>삼성전자</td>\n",
       "      <td>1</td>\n",
       "    </tr>\n",
       "    <tr>\n",
       "      <th>3</th>\n",
       "      <td>LG전자 퓨리케어 AS309DWA</td>\n",
       "      <td>1050600</td>\n",
       "      <td>98</td>\n",
       "      <td>144</td>\n",
       "      <td>295</td>\n",
       "      <td>LG전자</td>\n",
       "      <td>1</td>\n",
       "    </tr>\n",
       "    <tr>\n",
       "      <th>4</th>\n",
       "      <td>샤오미 미에어2S</td>\n",
       "      <td>145820</td>\n",
       "      <td>95</td>\n",
       "      <td>204</td>\n",
       "      <td>132</td>\n",
       "      <td>샤오미</td>\n",
       "      <td>1</td>\n",
       "    </tr>\n",
       "  </tbody>\n",
       "</table>\n",
       "</div>"
      ],
      "text/plain": [
       "                      name    price  points  reviews  pricecs company  count\n",
       "0       위닉스 제로 AZBE380-HWK   215600      96     1939      157     위닉스      1\n",
       "1               샤오미 미에어 프로   216060      95      368      108     샤오미      1\n",
       "2  삼성전자 블루스카이 AX60N5580WDD   387990      94     1086      199    삼성전자      1\n",
       "3       LG전자 퓨리케어 AS309DWA  1050600      98      144      295    LG전자      1\n",
       "4                샤오미 미에어2S   145820      95      204      132     샤오미      1"
      ]
     },
     "execution_count": 47,
     "metadata": {},
     "output_type": "execute_result"
    }
   ],
   "source": [
    "df = pd.read_excel (r'C:\\Users\\USER\\Desktop\\프로젝트\\csv\\크롤링파일\\공기청정기\\top90_air.xlsx', coloums=['삼성전자', '위닉스', 'LG전자', '다이슨', '샤오미', '대유위니아', '로엘', '벤타', '블루에어', '삼지아이티', '쿠쿠전자', '기타'],encoding = 'utf-8')\n",
    "df.head()"
   ]
  },
  {
   "cell_type": "code",
   "execution_count": 48,
   "metadata": {},
   "outputs": [
    {
     "data": {
      "text/html": [
       "<div>\n",
       "<style>\n",
       "    .dataframe thead tr:only-child th {\n",
       "        text-align: right;\n",
       "    }\n",
       "\n",
       "    .dataframe thead th {\n",
       "        text-align: left;\n",
       "    }\n",
       "\n",
       "    .dataframe tbody tr th {\n",
       "        vertical-align: top;\n",
       "    }\n",
       "</style>\n",
       "<table border=\"1\" class=\"dataframe\">\n",
       "  <thead>\n",
       "    <tr>\n",
       "      <th></th>\n",
       "      <th colspan=\"12\" halign=\"left\">mean</th>\n",
       "    </tr>\n",
       "    <tr>\n",
       "      <th>company</th>\n",
       "      <th>LG전자</th>\n",
       "      <th>기타</th>\n",
       "      <th>다이슨</th>\n",
       "      <th>대유위니아</th>\n",
       "      <th>로엘</th>\n",
       "      <th>벤타</th>\n",
       "      <th>블루에어</th>\n",
       "      <th>삼성전자</th>\n",
       "      <th>삼지아이티</th>\n",
       "      <th>샤오미</th>\n",
       "      <th>위닉스</th>\n",
       "      <th>쿠쿠전자</th>\n",
       "    </tr>\n",
       "  </thead>\n",
       "  <tbody>\n",
       "    <tr>\n",
       "      <th>price</th>\n",
       "      <td>770683.846154</td>\n",
       "      <td>153324.545455</td>\n",
       "      <td>707742.5</td>\n",
       "      <td>190435.0</td>\n",
       "      <td>244000.0</td>\n",
       "      <td>389700.0</td>\n",
       "      <td>581500.0</td>\n",
       "      <td>552744.074074</td>\n",
       "      <td>59400.0</td>\n",
       "      <td>245190.0</td>\n",
       "      <td>283391.578947</td>\n",
       "      <td>316370.0</td>\n",
       "    </tr>\n",
       "  </tbody>\n",
       "</table>\n",
       "</div>"
      ],
      "text/plain": [
       "                  mean                                                         \\\n",
       "company           LG전자             기타       다이슨     대유위니아        로엘        벤타   \n",
       "price    770683.846154  153324.545455  707742.5  190435.0  244000.0  389700.0   \n",
       "\n",
       "                                                                              \n",
       "company      블루에어           삼성전자    삼지아이티       샤오미            위닉스      쿠쿠전자  \n",
       "price    581500.0  552744.074074  59400.0  245190.0  283391.578947  316370.0  "
      ]
     },
     "execution_count": 48,
     "metadata": {},
     "output_type": "execute_result"
    }
   ],
   "source": [
    "pvp = pd.pivot_table(df, columns=[\"company\"], values=['price'], aggfunc=[np.mean], fill_value=0)\n",
    "pvp"
   ]
  },
  {
   "cell_type": "code",
   "execution_count": 49,
   "metadata": {
    "collapsed": true
   },
   "outputs": [],
   "source": [
    "pvp.to_excel(r'C:\\Users\\USER\\Desktop\\프로젝트\\csv\\크롤링파일\\공기청정기\\companyprice.xlsx', encoding='UTF-8')"
   ]
  },
  {
   "cell_type": "code",
   "execution_count": 50,
   "metadata": {},
   "outputs": [
    {
     "data": {
      "text/html": [
       "<div>\n",
       "<style>\n",
       "    .dataframe thead tr:only-child th {\n",
       "        text-align: right;\n",
       "    }\n",
       "\n",
       "    .dataframe thead th {\n",
       "        text-align: left;\n",
       "    }\n",
       "\n",
       "    .dataframe tbody tr th {\n",
       "        vertical-align: top;\n",
       "    }\n",
       "</style>\n",
       "<table border=\"1\" class=\"dataframe\">\n",
       "  <thead>\n",
       "    <tr style=\"text-align: right;\">\n",
       "      <th></th>\n",
       "      <th>price</th>\n",
       "    </tr>\n",
       "    <tr>\n",
       "      <th>company</th>\n",
       "      <th></th>\n",
       "    </tr>\n",
       "  </thead>\n",
       "  <tbody>\n",
       "    <tr>\n",
       "      <th>삼지아이티</th>\n",
       "      <td>59400</td>\n",
       "    </tr>\n",
       "    <tr>\n",
       "      <th>대유위니아</th>\n",
       "      <td>190440</td>\n",
       "    </tr>\n",
       "    <tr>\n",
       "      <th>로엘</th>\n",
       "      <td>244000</td>\n",
       "    </tr>\n",
       "    <tr>\n",
       "      <th>샤오미</th>\n",
       "      <td>245190</td>\n",
       "    </tr>\n",
       "    <tr>\n",
       "      <th>위닉스</th>\n",
       "      <td>283390</td>\n",
       "    </tr>\n",
       "  </tbody>\n",
       "</table>\n",
       "</div>"
      ],
      "text/plain": [
       "          price\n",
       "company        \n",
       "삼지아이티     59400\n",
       "대유위니아    190440\n",
       "로엘       244000\n",
       "샤오미      245190\n",
       "위닉스      283390"
      ]
     },
     "execution_count": 50,
     "metadata": {},
     "output_type": "execute_result"
    }
   ],
   "source": [
    "cprice =pd.read_excel(r'C:\\Users\\USER\\Desktop\\프로젝트\\csv\\크롤링파일\\공기청정기\\companyprice2.xlsx', encoding='UTF-8')\n",
    "cprice.set_index('company', inplace=True)\n",
    "cprice.head()"
   ]
  },
  {
   "cell_type": "code",
   "execution_count": 51,
   "metadata": {},
   "outputs": [
    {
     "data": {
      "image/png": "[encoded data removed]",
      "text/plain": [
       "<Figure size 648x576 with 1 Axes>"
      ]
     },
     "metadata": {},
     "output_type": "display_data"
    }
   ],
   "source": [
    "cprice['price'].plot(kind='barh', figsize=(9,8))\n",
    "plt.title('TOP90 중 회사별 평균 가격')\n",
    "plt.ylabel('회사명')\n",
    "plt.xlabel('평균 가격')\n",
    "plt.show()"
   ]
  },
  {
   "cell_type": "code",
   "execution_count": 52,
   "metadata": {},
   "outputs": [
    {
     "data": {
      "text/html": [
       "<div>\n",
       "<style>\n",
       "    .dataframe thead tr:only-child th {\n",
       "        text-align: right;\n",
       "    }\n",
       "\n",
       "    .dataframe thead th {\n",
       "        text-align: left;\n",
       "    }\n",
       "\n",
       "    .dataframe tbody tr th {\n",
       "        vertical-align: top;\n",
       "    }\n",
       "</style>\n",
       "<table border=\"1\" class=\"dataframe\">\n",
       "  <thead>\n",
       "    <tr>\n",
       "      <th></th>\n",
       "      <th colspan=\"12\" halign=\"left\">mean</th>\n",
       "    </tr>\n",
       "    <tr>\n",
       "      <th>company</th>\n",
       "      <th>LG전자</th>\n",
       "      <th>기타</th>\n",
       "      <th>다이슨</th>\n",
       "      <th>대유위니아</th>\n",
       "      <th>로엘</th>\n",
       "      <th>벤타</th>\n",
       "      <th>블루에어</th>\n",
       "      <th>삼성전자</th>\n",
       "      <th>삼지아이티</th>\n",
       "      <th>샤오미</th>\n",
       "      <th>위닉스</th>\n",
       "      <th>쿠쿠전자</th>\n",
       "    </tr>\n",
       "  </thead>\n",
       "  <tbody>\n",
       "    <tr>\n",
       "      <th>points</th>\n",
       "      <td>95.769231</td>\n",
       "      <td>91.363636</td>\n",
       "      <td>95.0</td>\n",
       "      <td>94.0</td>\n",
       "      <td>98.5</td>\n",
       "      <td>92.0</td>\n",
       "      <td>96.0</td>\n",
       "      <td>94.37037</td>\n",
       "      <td>96.5</td>\n",
       "      <td>90.75</td>\n",
       "      <td>95.368421</td>\n",
       "      <td>99.0</td>\n",
       "    </tr>\n",
       "  </tbody>\n",
       "</table>\n",
       "</div>"
      ],
      "text/plain": [
       "              mean                                                           \\\n",
       "company       LG전자         기타   다이슨 대유위니아    로엘    벤타  블루에어      삼성전자 삼지아이티   \n",
       "points   95.769231  91.363636  95.0  94.0  98.5  92.0  96.0  94.37037  96.5   \n",
       "\n",
       "                                 \n",
       "company    샤오미        위닉스  쿠쿠전자  \n",
       "points   90.75  95.368421  99.0  "
      ]
     },
     "execution_count": 52,
     "metadata": {},
     "output_type": "execute_result"
    }
   ],
   "source": [
    "pv = pd.pivot_table(df, columns=[\"company\"], values=['points'], aggfunc=[np.mean], fill_value=0)\n",
    "pv "
   ]
  },
  {
   "cell_type": "code",
   "execution_count": 53,
   "metadata": {
    "collapsed": true
   },
   "outputs": [],
   "source": [
    "pv.to_excel(r'C:\\Users\\USER\\Desktop\\프로젝트\\csv\\크롤링파일\\공기청정기\\companypoint.xlsx', encoding='UTF-8')"
   ]
  },
  {
   "cell_type": "code",
   "execution_count": 54,
   "metadata": {},
   "outputs": [
    {
     "data": {
      "text/html": [
       "<div>\n",
       "<style>\n",
       "    .dataframe thead tr:only-child th {\n",
       "        text-align: right;\n",
       "    }\n",
       "\n",
       "    .dataframe thead th {\n",
       "        text-align: left;\n",
       "    }\n",
       "\n",
       "    .dataframe tbody tr th {\n",
       "        vertical-align: top;\n",
       "    }\n",
       "</style>\n",
       "<table border=\"1\" class=\"dataframe\">\n",
       "  <thead>\n",
       "    <tr style=\"text-align: right;\">\n",
       "      <th></th>\n",
       "      <th>points</th>\n",
       "    </tr>\n",
       "    <tr>\n",
       "      <th>company</th>\n",
       "      <th></th>\n",
       "    </tr>\n",
       "  </thead>\n",
       "  <tbody>\n",
       "    <tr>\n",
       "      <th>LG전자</th>\n",
       "      <td>95.769231</td>\n",
       "    </tr>\n",
       "    <tr>\n",
       "      <th>다이슨</th>\n",
       "      <td>95.000000</td>\n",
       "    </tr>\n",
       "    <tr>\n",
       "      <th>대유위니아</th>\n",
       "      <td>94.000000</td>\n",
       "    </tr>\n",
       "    <tr>\n",
       "      <th>로엘</th>\n",
       "      <td>98.500000</td>\n",
       "    </tr>\n",
       "    <tr>\n",
       "      <th>벤타</th>\n",
       "      <td>92.000000</td>\n",
       "    </tr>\n",
       "  </tbody>\n",
       "</table>\n",
       "</div>"
      ],
      "text/plain": [
       "            points\n",
       "company           \n",
       "LG전자     95.769231\n",
       "다이슨      95.000000\n",
       "대유위니아    94.000000\n",
       "로엘       98.500000\n",
       "벤타       92.000000"
      ]
     },
     "execution_count": 54,
     "metadata": {},
     "output_type": "execute_result"
    }
   ],
   "source": [
    "cp = pd.read_excel(r'C:\\Users\\USER\\Desktop\\프로젝트\\csv\\크롤링파일\\공기청정기\\companypoint2.xlsx', encoding='UTF-8')\n",
    "cp.set_index('company', inplace=True)\n",
    "cp.head()"
   ]
  },
  {
   "cell_type": "code",
   "execution_count": 55,
   "metadata": {},
   "outputs": [
    {
     "data": {
      "image/png": "[encoded data removed]",
      "text/plain": [
       "<Figure size 648x576 with 1 Axes>"
      ]
     },
     "metadata": {},
     "output_type": "display_data"
    }
   ],
   "source": [
    "cp['points'].sort_values().plot(kind='barh', figsize=(9,8))\n",
    "plt.title('TOP90 중 회사별 평균 평점')\n",
    "plt.ylabel('회사명')\n",
    "plt.xlabel('평균평점')\n",
    "plt.show()"
   ]
  },
  {
   "cell_type": "code",
   "execution_count": 56,
   "metadata": {},
   "outputs": [
    {
     "data": {
      "text/html": [
       "<div>\n",
       "<style>\n",
       "    .dataframe thead tr:only-child th {\n",
       "        text-align: right;\n",
       "    }\n",
       "\n",
       "    .dataframe thead th {\n",
       "        text-align: left;\n",
       "    }\n",
       "\n",
       "    .dataframe tbody tr th {\n",
       "        vertical-align: top;\n",
       "    }\n",
       "</style>\n",
       "<table border=\"1\" class=\"dataframe\">\n",
       "  <thead>\n",
       "    <tr>\n",
       "      <th></th>\n",
       "      <th colspan=\"12\" halign=\"left\">mean</th>\n",
       "    </tr>\n",
       "    <tr>\n",
       "      <th>company</th>\n",
       "      <th>LG전자</th>\n",
       "      <th>기타</th>\n",
       "      <th>다이슨</th>\n",
       "      <th>대유위니아</th>\n",
       "      <th>로엘</th>\n",
       "      <th>벤타</th>\n",
       "      <th>블루에어</th>\n",
       "      <th>삼성전자</th>\n",
       "      <th>삼지아이티</th>\n",
       "      <th>샤오미</th>\n",
       "      <th>위닉스</th>\n",
       "      <th>쿠쿠전자</th>\n",
       "    </tr>\n",
       "  </thead>\n",
       "  <tbody>\n",
       "    <tr>\n",
       "      <th>reviews</th>\n",
       "      <td>417.538462</td>\n",
       "      <td>446.909091</td>\n",
       "      <td>456.25</td>\n",
       "      <td>256.0</td>\n",
       "      <td>55.0</td>\n",
       "      <td>210.5</td>\n",
       "      <td>221.0</td>\n",
       "      <td>445.037037</td>\n",
       "      <td>3179.5</td>\n",
       "      <td>536.0</td>\n",
       "      <td>1027.421053</td>\n",
       "      <td>324.0</td>\n",
       "    </tr>\n",
       "  </tbody>\n",
       "</table>\n",
       "</div>"
      ],
      "text/plain": [
       "               mean                                                 \\\n",
       "company        LG전자          기타     다이슨  대유위니아    로엘     벤타   블루에어   \n",
       "reviews  417.538462  446.909091  456.25  256.0  55.0  210.5  221.0   \n",
       "\n",
       "                                                        \n",
       "company        삼성전자   삼지아이티    샤오미          위닉스   쿠쿠전자  \n",
       "reviews  445.037037  3179.5  536.0  1027.421053  324.0  "
      ]
     },
     "execution_count": 56,
     "metadata": {},
     "output_type": "execute_result"
    }
   ],
   "source": [
    "pv2 = pd.pivot_table(df, columns=[\"company\"], values=['reviews'], aggfunc=[np.mean], fill_value=0)\n",
    "pv2"
   ]
  },
  {
   "cell_type": "code",
   "execution_count": 57,
   "metadata": {
    "collapsed": true
   },
   "outputs": [],
   "source": [
    "pv2.to_excel(r'C:\\Users\\USER\\Desktop\\프로젝트\\csv\\크롤링파일\\공기청정기\\companyreviews.xlsx', encoding='UTF-8')"
   ]
  },
  {
   "cell_type": "code",
   "execution_count": 58,
   "metadata": {},
   "outputs": [
    {
     "data": {
      "text/html": [
       "<div>\n",
       "<style>\n",
       "    .dataframe thead tr:only-child th {\n",
       "        text-align: right;\n",
       "    }\n",
       "\n",
       "    .dataframe thead th {\n",
       "        text-align: left;\n",
       "    }\n",
       "\n",
       "    .dataframe tbody tr th {\n",
       "        vertical-align: top;\n",
       "    }\n",
       "</style>\n",
       "<table border=\"1\" class=\"dataframe\">\n",
       "  <thead>\n",
       "    <tr style=\"text-align: right;\">\n",
       "      <th></th>\n",
       "      <th>reviews</th>\n",
       "    </tr>\n",
       "    <tr>\n",
       "      <th>company</th>\n",
       "      <th></th>\n",
       "    </tr>\n",
       "  </thead>\n",
       "  <tbody>\n",
       "    <tr>\n",
       "      <th>LG전자</th>\n",
       "      <td>417.538462</td>\n",
       "    </tr>\n",
       "    <tr>\n",
       "      <th>다이슨</th>\n",
       "      <td>456.250000</td>\n",
       "    </tr>\n",
       "    <tr>\n",
       "      <th>대유위니아</th>\n",
       "      <td>256.000000</td>\n",
       "    </tr>\n",
       "    <tr>\n",
       "      <th>로엘</th>\n",
       "      <td>55.000000</td>\n",
       "    </tr>\n",
       "    <tr>\n",
       "      <th>벤타</th>\n",
       "      <td>210.500000</td>\n",
       "    </tr>\n",
       "  </tbody>\n",
       "</table>\n",
       "</div>"
      ],
      "text/plain": [
       "            reviews\n",
       "company            \n",
       "LG전자     417.538462\n",
       "다이슨      456.250000\n",
       "대유위니아    256.000000\n",
       "로엘        55.000000\n",
       "벤타       210.500000"
      ]
     },
     "execution_count": 58,
     "metadata": {},
     "output_type": "execute_result"
    }
   ],
   "source": [
    "cr = pd.read_excel(r'C:\\Users\\USER\\Desktop\\프로젝트\\csv\\크롤링파일\\공기청정기\\companyreviews2.xlsx', encoding='UTF-8')\n",
    "cr.set_index('company', inplace=True)\n",
    "cr.head()"
   ]
  },
  {
   "cell_type": "code",
   "execution_count": 59,
   "metadata": {},
   "outputs": [
    {
     "data": {
      "image/png": "[encoded data removed]",
      "text/plain": [
       "<Figure size 648x576 with 1 Axes>"
      ]
     },
     "metadata": {},
     "output_type": "display_data"
    }
   ],
   "source": [
    "cr['reviews'].sort_values().plot(kind='barh', figsize=(9,8))\n",
    "plt.title('TOP90 중 회사별 평균 리뷰수')\n",
    "plt.ylabel('회사명')\n",
    "plt.xlabel('평균리뷰수')\n",
    "plt.show()"
   ]
  },
  {
   "cell_type": "code",
   "execution_count": 60,
   "metadata": {},
   "outputs": [
    {
     "data": {
      "text/html": [
       "<div>\n",
       "<style>\n",
       "    .dataframe thead tr:only-child th {\n",
       "        text-align: right;\n",
       "    }\n",
       "\n",
       "    .dataframe thead th {\n",
       "        text-align: left;\n",
       "    }\n",
       "\n",
       "    .dataframe tbody tr th {\n",
       "        vertical-align: top;\n",
       "    }\n",
       "</style>\n",
       "<table border=\"1\" class=\"dataframe\">\n",
       "  <thead>\n",
       "    <tr>\n",
       "      <th></th>\n",
       "      <th colspan=\"12\" halign=\"left\">mean</th>\n",
       "    </tr>\n",
       "    <tr>\n",
       "      <th>company</th>\n",
       "      <th>LG전자</th>\n",
       "      <th>기타</th>\n",
       "      <th>다이슨</th>\n",
       "      <th>대유위니아</th>\n",
       "      <th>로엘</th>\n",
       "      <th>벤타</th>\n",
       "      <th>블루에어</th>\n",
       "      <th>삼성전자</th>\n",
       "      <th>삼지아이티</th>\n",
       "      <th>샤오미</th>\n",
       "      <th>위닉스</th>\n",
       "      <th>쿠쿠전자</th>\n",
       "    </tr>\n",
       "  </thead>\n",
       "  <tbody>\n",
       "    <tr>\n",
       "      <th>pricecs</th>\n",
       "      <td>182.461538</td>\n",
       "      <td>92.181818</td>\n",
       "      <td>269.25</td>\n",
       "      <td>86.5</td>\n",
       "      <td>4.0</td>\n",
       "      <td>76.5</td>\n",
       "      <td>92.5</td>\n",
       "      <td>197.555556</td>\n",
       "      <td>17.5</td>\n",
       "      <td>107.5</td>\n",
       "      <td>82.421053</td>\n",
       "      <td>164.0</td>\n",
       "    </tr>\n",
       "  </tbody>\n",
       "</table>\n",
       "</div>"
      ],
      "text/plain": [
       "               mean                                                        \\\n",
       "company        LG전자         기타     다이슨 대유위니아   로엘    벤타  블루에어        삼성전자   \n",
       "pricecs  182.461538  92.181818  269.25  86.5  4.0  76.5  92.5  197.555556   \n",
       "\n",
       "                                        \n",
       "company 삼지아이티    샤오미        위닉스   쿠쿠전자  \n",
       "pricecs  17.5  107.5  82.421053  164.0  "
      ]
     },
     "execution_count": 60,
     "metadata": {},
     "output_type": "execute_result"
    }
   ],
   "source": [
    "pv3 = pd.pivot_table(df, columns=[\"company\"], values=['pricecs'], aggfunc=[np.mean], fill_value=0)\n",
    "pv3"
   ]
  },
  {
   "cell_type": "code",
   "execution_count": 61,
   "metadata": {
    "collapsed": true
   },
   "outputs": [],
   "source": [
    "pv3.to_excel(r'C:\\Users\\USER\\Desktop\\프로젝트\\csv\\크롤링파일\\공기청정기\\companypcs.xlsx', encoding='UTF-8')"
   ]
  },
  {
   "cell_type": "code",
   "execution_count": 62,
   "metadata": {},
   "outputs": [
    {
     "data": {
      "text/html": [
       "<div>\n",
       "<style>\n",
       "    .dataframe thead tr:only-child th {\n",
       "        text-align: right;\n",
       "    }\n",
       "\n",
       "    .dataframe thead th {\n",
       "        text-align: left;\n",
       "    }\n",
       "\n",
       "    .dataframe tbody tr th {\n",
       "        vertical-align: top;\n",
       "    }\n",
       "</style>\n",
       "<table border=\"1\" class=\"dataframe\">\n",
       "  <thead>\n",
       "    <tr style=\"text-align: right;\">\n",
       "      <th></th>\n",
       "      <th>pricecs</th>\n",
       "    </tr>\n",
       "    <tr>\n",
       "      <th>company</th>\n",
       "      <th></th>\n",
       "    </tr>\n",
       "  </thead>\n",
       "  <tbody>\n",
       "    <tr>\n",
       "      <th>LG전자</th>\n",
       "      <td>182.461538</td>\n",
       "    </tr>\n",
       "    <tr>\n",
       "      <th>다이슨</th>\n",
       "      <td>269.250000</td>\n",
       "    </tr>\n",
       "    <tr>\n",
       "      <th>대유위니아</th>\n",
       "      <td>86.500000</td>\n",
       "    </tr>\n",
       "    <tr>\n",
       "      <th>로엘</th>\n",
       "      <td>4.000000</td>\n",
       "    </tr>\n",
       "    <tr>\n",
       "      <th>벤타</th>\n",
       "      <td>76.500000</td>\n",
       "    </tr>\n",
       "  </tbody>\n",
       "</table>\n",
       "</div>"
      ],
      "text/plain": [
       "            pricecs\n",
       "company            \n",
       "LG전자     182.461538\n",
       "다이슨      269.250000\n",
       "대유위니아     86.500000\n",
       "로엘         4.000000\n",
       "벤타        76.500000"
      ]
     },
     "execution_count": 62,
     "metadata": {},
     "output_type": "execute_result"
    }
   ],
   "source": [
    "cpcs = pd.read_excel(r'C:\\Users\\USER\\Desktop\\프로젝트\\csv\\크롤링파일\\공기청정기\\companypcs2.xlsx', encoding='UTF-8')\n",
    "cpcs.set_index('company', inplace=True)\n",
    "cpcs.head()"
   ]
  },
  {
   "cell_type": "code",
   "execution_count": 63,
   "metadata": {},
   "outputs": [
    {
     "data": {
      "image/png": "[encoded data removed]",
      "text/plain": [
       "<Figure size 648x576 with 1 Axes>"
      ]
     },
     "metadata": {},
     "output_type": "display_data"
    }
   ],
   "source": [
    "cpcs['pricecs'].sort_values().plot(kind='barh', figsize=(9,8))\n",
    "plt.title('TOP90 중 회사별 평균 가격비교쇼핑몰수')\n",
    "plt.ylabel('회사명')\n",
    "plt.xlabel('가격비교쇼핑몰수')\n",
    "plt.show()"
   ]
  }
 ],
 "metadata": {
  "kernelspec": {
   "display_name": "Python 3",
   "language": "python",
   "name": "python3"
  },
  "language_info": {
   "codemirror_mode": {
    "name": "ipython",
    "version": 3
   },
   "file_extension": ".py",
   "mimetype": "text/x-python",
   "name": "python",
   "nbconvert_exporter": "python",
   "pygments_lexer": "ipython3",
   "version": "3.6.2"
  }
 },
 "nbformat": 4,
 "nbformat_minor": 2
}

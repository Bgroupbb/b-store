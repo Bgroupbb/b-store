{
 "cells": [
  {
   "cell_type": "code",
   "execution_count": 1,
   "metadata": {
    "collapsed": true
   },
   "outputs": [],
   "source": [
    "import pandas as pd\n",
    "import numpy as np"
   ]
  },
  {
   "cell_type": "code",
   "execution_count": 2,
   "metadata": {
    "collapsed": true
   },
   "outputs": [],
   "source": [
    "df = pd.read_excel (r'C:\\Users\\USER\\Desktop\\프로젝트\\csv\\크롤링파일\\공기청정기\\top90_air.xlsx', encoding = 'utf-8')"
   ]
  },
  {
   "cell_type": "code",
   "execution_count": 3,
   "metadata": {
    "collapsed": true
   },
   "outputs": [],
   "source": [
    "df.head()\n",
    "df.set_index('company', inplace=True)"
   ]
  },
  {
   "cell_type": "code",
   "execution_count": 4,
   "metadata": {},
   "outputs": [
    {
     "data": {
      "text/html": [
       "<div>\n",
       "<style>\n",
       "    .dataframe thead tr:only-child th {\n",
       "        text-align: right;\n",
       "    }\n",
       "\n",
       "    .dataframe thead th {\n",
       "        text-align: left;\n",
       "    }\n",
       "\n",
       "    .dataframe tbody tr th {\n",
       "        vertical-align: top;\n",
       "    }\n",
       "</style>\n",
       "<table border=\"1\" class=\"dataframe\">\n",
       "  <thead>\n",
       "    <tr style=\"text-align: right;\">\n",
       "      <th></th>\n",
       "      <th>count</th>\n",
       "    </tr>\n",
       "    <tr>\n",
       "      <th>company</th>\n",
       "      <th></th>\n",
       "    </tr>\n",
       "  </thead>\n",
       "  <tbody>\n",
       "    <tr>\n",
       "      <th>LG전자</th>\n",
       "      <td>13</td>\n",
       "    </tr>\n",
       "    <tr>\n",
       "      <th>기타</th>\n",
       "      <td>11</td>\n",
       "    </tr>\n",
       "    <tr>\n",
       "      <th>다이슨</th>\n",
       "      <td>4</td>\n",
       "    </tr>\n",
       "    <tr>\n",
       "      <th>대유위니아</th>\n",
       "      <td>2</td>\n",
       "    </tr>\n",
       "    <tr>\n",
       "      <th>로엘</th>\n",
       "      <td>2</td>\n",
       "    </tr>\n",
       "    <tr>\n",
       "      <th>벤타</th>\n",
       "      <td>2</td>\n",
       "    </tr>\n",
       "    <tr>\n",
       "      <th>블루에어</th>\n",
       "      <td>2</td>\n",
       "    </tr>\n",
       "    <tr>\n",
       "      <th>삼성전자</th>\n",
       "      <td>27</td>\n",
       "    </tr>\n",
       "    <tr>\n",
       "      <th>삼지아이티</th>\n",
       "      <td>2</td>\n",
       "    </tr>\n",
       "    <tr>\n",
       "      <th>샤오미</th>\n",
       "      <td>4</td>\n",
       "    </tr>\n",
       "    <tr>\n",
       "      <th>위닉스</th>\n",
       "      <td>19</td>\n",
       "    </tr>\n",
       "    <tr>\n",
       "      <th>쿠쿠전자</th>\n",
       "      <td>2</td>\n",
       "    </tr>\n",
       "  </tbody>\n",
       "</table>\n",
       "</div>"
      ],
      "text/plain": [
       "         count\n",
       "company       \n",
       "LG전자        13\n",
       "기타          11\n",
       "다이슨          4\n",
       "대유위니아        2\n",
       "로엘           2\n",
       "벤타           2\n",
       "블루에어         2\n",
       "삼성전자        27\n",
       "삼지아이티        2\n",
       "샤오미          4\n",
       "위닉스         19\n",
       "쿠쿠전자         2"
      ]
     },
     "execution_count": 4,
     "metadata": {},
     "output_type": "execute_result"
    }
   ],
   "source": [
    "df.groupby('company').count()[['count']] "
   ]
  },
  {
   "cell_type": "code",
   "execution_count": 5,
   "metadata": {},
   "outputs": [
    {
     "data": {
      "text/html": [
       "<div>\n",
       "<style>\n",
       "    .dataframe thead tr:only-child th {\n",
       "        text-align: right;\n",
       "    }\n",
       "\n",
       "    .dataframe thead th {\n",
       "        text-align: left;\n",
       "    }\n",
       "\n",
       "    .dataframe tbody tr th {\n",
       "        vertical-align: top;\n",
       "    }\n",
       "</style>\n",
       "<table border=\"1\" class=\"dataframe\">\n",
       "  <thead>\n",
       "    <tr style=\"text-align: right;\">\n",
       "      <th></th>\n",
       "      <th>삼성전자</th>\n",
       "      <th>위닉스</th>\n",
       "      <th>LG전자</th>\n",
       "      <th>다이슨</th>\n",
       "      <th>샤오미</th>\n",
       "      <th>대유위니아</th>\n",
       "      <th>로엘</th>\n",
       "      <th>벤타</th>\n",
       "      <th>블루에어</th>\n",
       "      <th>삼지아이티</th>\n",
       "      <th>쿠쿠전자</th>\n",
       "      <th>기타</th>\n",
       "    </tr>\n",
       "    <tr>\n",
       "      <th>company</th>\n",
       "      <th></th>\n",
       "      <th></th>\n",
       "      <th></th>\n",
       "      <th></th>\n",
       "      <th></th>\n",
       "      <th></th>\n",
       "      <th></th>\n",
       "      <th></th>\n",
       "      <th></th>\n",
       "      <th></th>\n",
       "      <th></th>\n",
       "      <th></th>\n",
       "    </tr>\n",
       "  </thead>\n",
       "  <tbody>\n",
       "    <tr>\n",
       "      <th>count</th>\n",
       "      <td>27</td>\n",
       "      <td>19</td>\n",
       "      <td>13</td>\n",
       "      <td>4</td>\n",
       "      <td>4</td>\n",
       "      <td>2</td>\n",
       "      <td>2</td>\n",
       "      <td>2</td>\n",
       "      <td>2</td>\n",
       "      <td>2</td>\n",
       "      <td>2</td>\n",
       "      <td>11</td>\n",
       "    </tr>\n",
       "  </tbody>\n",
       "</table>\n",
       "</div>"
      ],
      "text/plain": [
       "         삼성전자  위닉스  LG전자  다이슨  샤오미  대유위니아  로엘  벤타  블루에어  삼지아이티  쿠쿠전자  기타\n",
       "company                                                                 \n",
       "count      27   19    13    4    4      2   2   2     2      2     2  11"
      ]
     },
     "execution_count": 5,
     "metadata": {},
     "output_type": "execute_result"
    }
   ],
   "source": [
    "cc = pd.read_excel (r'C:\\Users\\USER\\Desktop\\프로젝트\\csv\\크롤링파일\\공기청정기\\companycount.xlsx',encoding = 'utf-8')\n",
    "cc.set_index('company', inplace=True)\n",
    "cc"
   ]
  },
  {
   "cell_type": "code",
   "execution_count": 6,
   "metadata": {},
   "outputs": [
    {
     "data": {
      "text/html": [
       "<div>\n",
       "<style>\n",
       "    .dataframe thead tr:only-child th {\n",
       "        text-align: right;\n",
       "    }\n",
       "\n",
       "    .dataframe thead th {\n",
       "        text-align: left;\n",
       "    }\n",
       "\n",
       "    .dataframe tbody tr th {\n",
       "        vertical-align: top;\n",
       "    }\n",
       "</style>\n",
       "<table border=\"1\" class=\"dataframe\">\n",
       "  <thead>\n",
       "    <tr style=\"text-align: right;\">\n",
       "      <th></th>\n",
       "      <th>count</th>\n",
       "    </tr>\n",
       "    <tr>\n",
       "      <th>company</th>\n",
       "      <th></th>\n",
       "    </tr>\n",
       "  </thead>\n",
       "  <tbody>\n",
       "    <tr>\n",
       "      <th>LG전자</th>\n",
       "      <td>13</td>\n",
       "    </tr>\n",
       "    <tr>\n",
       "      <th>다이슨</th>\n",
       "      <td>4</td>\n",
       "    </tr>\n",
       "    <tr>\n",
       "      <th>대유위니아</th>\n",
       "      <td>2</td>\n",
       "    </tr>\n",
       "    <tr>\n",
       "      <th>로엘</th>\n",
       "      <td>2</td>\n",
       "    </tr>\n",
       "    <tr>\n",
       "      <th>벤타</th>\n",
       "      <td>2</td>\n",
       "    </tr>\n",
       "    <tr>\n",
       "      <th>블루에어</th>\n",
       "      <td>2</td>\n",
       "    </tr>\n",
       "    <tr>\n",
       "      <th>삼성전자</th>\n",
       "      <td>27</td>\n",
       "    </tr>\n",
       "    <tr>\n",
       "      <th>삼지아이티</th>\n",
       "      <td>2</td>\n",
       "    </tr>\n",
       "    <tr>\n",
       "      <th>샤오미</th>\n",
       "      <td>4</td>\n",
       "    </tr>\n",
       "    <tr>\n",
       "      <th>위닉스</th>\n",
       "      <td>19</td>\n",
       "    </tr>\n",
       "    <tr>\n",
       "      <th>쿠쿠전자</th>\n",
       "      <td>2</td>\n",
       "    </tr>\n",
       "  </tbody>\n",
       "</table>\n",
       "</div>"
      ],
      "text/plain": [
       "         count\n",
       "company       \n",
       "LG전자        13\n",
       "다이슨          4\n",
       "대유위니아        2\n",
       "로엘           2\n",
       "벤타           2\n",
       "블루에어         2\n",
       "삼성전자        27\n",
       "삼지아이티        2\n",
       "샤오미          4\n",
       "위닉스         19\n",
       "쿠쿠전자         2"
      ]
     },
     "execution_count": 6,
     "metadata": {},
     "output_type": "execute_result"
    }
   ],
   "source": [
    "cc2 = pd.read_excel (r'C:\\Users\\USER\\Desktop\\프로젝트\\csv\\크롤링파일\\공기청정기\\companycount2.xlsx',encoding = 'utf-8')\n",
    "cc2.set_index('company', inplace=True)\n",
    "cc2"
   ]
  },
  {
   "cell_type": "code",
   "execution_count": 7,
   "metadata": {
    "collapsed": true
   },
   "outputs": [],
   "source": [
    "import matplotlib.pyplot as plt\n",
    "\n",
    "%matplotlib inline\n",
    "\n",
    "import platform\n",
    "\n",
    "path = \"c:/Windows/Fonts/malgun.ttf\"\n",
    "from matplotlib import font_manager, rc\n",
    "if platform.system() == 'Darwin':\n",
    "    rc('font', family='AppleGothic')\n",
    "elif platform.system() == 'Windows':\n",
    "    font_name = font_manager.FontProperties(fname=path).get_name()\n",
    "    rc('font', family=font_name)\n",
    "else:\n",
    "    print('Unknown system... sorry~~~~') "
   ]
  },
  {
   "cell_type": "code",
   "execution_count": 8,
   "metadata": {},
   "outputs": [
    {
     "data": {
      "image/png": "[encoded data removed]",
      "text/plain": [
       "<Figure size 648x576 with 1 Axes>"
      ]
     },
     "metadata": {},
     "output_type": "display_data"
    }
   ],
   "source": [
    "cc2['count'].sort_values().plot(kind='barh', figsize=(9,8))\n",
    "plt.title('TOP90 중 회사별 제품개수')\n",
    "plt.ylabel('회사명')\n",
    "plt.xlabel('제품개수')\n",
    "plt.show()"
   ]
  },
  {
   "cell_type": "code",
   "execution_count": 9,
   "metadata": {},
   "outputs": [
    {
     "data": {
      "text/html": [
       "<div>\n",
       "<style>\n",
       "    .dataframe thead tr:only-child th {\n",
       "        text-align: right;\n",
       "    }\n",
       "\n",
       "    .dataframe thead th {\n",
       "        text-align: left;\n",
       "    }\n",
       "\n",
       "    .dataframe tbody tr th {\n",
       "        vertical-align: top;\n",
       "    }\n",
       "</style>\n",
       "<table border=\"1\" class=\"dataframe\">\n",
       "  <thead>\n",
       "    <tr>\n",
       "      <th></th>\n",
       "      <th colspan=\"12\" halign=\"left\">mean</th>\n",
       "    </tr>\n",
       "    <tr>\n",
       "      <th>company</th>\n",
       "      <th>LG전자</th>\n",
       "      <th>기타</th>\n",
       "      <th>다이슨</th>\n",
       "      <th>대유위니아</th>\n",
       "      <th>로엘</th>\n",
       "      <th>벤타</th>\n",
       "      <th>블루에어</th>\n",
       "      <th>삼성전자</th>\n",
       "      <th>삼지아이티</th>\n",
       "      <th>샤오미</th>\n",
       "      <th>위닉스</th>\n",
       "      <th>쿠쿠전자</th>\n",
       "    </tr>\n",
       "  </thead>\n",
       "  <tbody>\n",
       "    <tr>\n",
       "      <th>price</th>\n",
       "      <td>770683.846154</td>\n",
       "      <td>153324.545455</td>\n",
       "      <td>707742.5</td>\n",
       "      <td>190435.0</td>\n",
       "      <td>244000.0</td>\n",
       "      <td>389700.0</td>\n",
       "      <td>581500.0</td>\n",
       "      <td>552744.074074</td>\n",
       "      <td>59400.0</td>\n",
       "      <td>245190.0</td>\n",
       "      <td>283391.578947</td>\n",
       "      <td>316370.0</td>\n",
       "    </tr>\n",
       "  </tbody>\n",
       "</table>\n",
       "</div>"
      ],
      "text/plain": [
       "                  mean                                                         \\\n",
       "company           LG전자             기타       다이슨     대유위니아        로엘        벤타   \n",
       "price    770683.846154  153324.545455  707742.5  190435.0  244000.0  389700.0   \n",
       "\n",
       "                                                                              \n",
       "company      블루에어           삼성전자    삼지아이티       샤오미            위닉스      쿠쿠전자  \n",
       "price    581500.0  552744.074074  59400.0  245190.0  283391.578947  316370.0  "
      ]
     },
     "execution_count": 9,
     "metadata": {},
     "output_type": "execute_result"
    }
   ],
   "source": [
    "pvp = pd.pivot_table(df, columns=[\"company\"], values=['price'], aggfunc=[np.mean], fill_value=0)\n",
    "pvp"
   ]
  },
  {
   "cell_type": "code",
   "execution_count": 10,
   "metadata": {
    "collapsed": true
   },
   "outputs": [],
   "source": [
    "pvp.to_excel(r'C:\\Users\\USER\\Desktop\\프로젝트\\csv\\크롤링파일\\공기청정기\\companyprice.xlsx', encoding='UTF-8')"
   ]
  },
  {
   "cell_type": "code",
   "execution_count": 11,
   "metadata": {},
   "outputs": [
    {
     "data": {
      "text/html": [
       "<div>\n",
       "<style>\n",
       "    .dataframe thead tr:only-child th {\n",
       "        text-align: right;\n",
       "    }\n",
       "\n",
       "    .dataframe thead th {\n",
       "        text-align: left;\n",
       "    }\n",
       "\n",
       "    .dataframe tbody tr th {\n",
       "        vertical-align: top;\n",
       "    }\n",
       "</style>\n",
       "<table border=\"1\" class=\"dataframe\">\n",
       "  <thead>\n",
       "    <tr style=\"text-align: right;\">\n",
       "      <th></th>\n",
       "      <th>price</th>\n",
       "    </tr>\n",
       "    <tr>\n",
       "      <th>company</th>\n",
       "      <th></th>\n",
       "    </tr>\n",
       "  </thead>\n",
       "  <tbody>\n",
       "    <tr>\n",
       "      <th>삼지아이티</th>\n",
       "      <td>59400</td>\n",
       "    </tr>\n",
       "    <tr>\n",
       "      <th>대유위니아</th>\n",
       "      <td>190440</td>\n",
       "    </tr>\n",
       "    <tr>\n",
       "      <th>로엘</th>\n",
       "      <td>244000</td>\n",
       "    </tr>\n",
       "    <tr>\n",
       "      <th>샤오미</th>\n",
       "      <td>245190</td>\n",
       "    </tr>\n",
       "    <tr>\n",
       "      <th>위닉스</th>\n",
       "      <td>283390</td>\n",
       "    </tr>\n",
       "  </tbody>\n",
       "</table>\n",
       "</div>"
      ],
      "text/plain": [
       "          price\n",
       "company        \n",
       "삼지아이티     59400\n",
       "대유위니아    190440\n",
       "로엘       244000\n",
       "샤오미      245190\n",
       "위닉스      283390"
      ]
     },
     "execution_count": 11,
     "metadata": {},
     "output_type": "execute_result"
    }
   ],
   "source": [
    "cprice =pd.read_excel(r'C:\\Users\\USER\\Desktop\\프로젝트\\csv\\크롤링파일\\공기청정기\\companyprice2.xlsx', encoding='UTF-8')\n",
    "cprice.set_index('company', inplace=True)\n",
    "cprice.head()"
   ]
  },
  {
   "cell_type": "code",
   "execution_count": 12,
   "metadata": {},
   "outputs": [
    {
     "data": {
      "image/png": "[encoded data removed]",
      "text/plain": [
       "<Figure size 648x576 with 1 Axes>"
      ]
     },
     "metadata": {},
     "output_type": "display_data"
    }
   ],
   "source": [
    "cprice['price'].plot(kind='barh', figsize=(9,8))\n",
    "plt.title('TOP90 중 회사별 평균 가격')\n",
    "plt.ylabel('회사명')\n",
    "plt.xlabel('평균 가격')\n",
    "plt.show()"
   ]
  },
  {
   "cell_type": "code",
   "execution_count": 13,
   "metadata": {},
   "outputs": [
    {
     "data": {
      "text/html": [
       "<div>\n",
       "<style>\n",
       "    .dataframe thead tr:only-child th {\n",
       "        text-align: right;\n",
       "    }\n",
       "\n",
       "    .dataframe thead th {\n",
       "        text-align: left;\n",
       "    }\n",
       "\n",
       "    .dataframe tbody tr th {\n",
       "        vertical-align: top;\n",
       "    }\n",
       "</style>\n",
       "<table border=\"1\" class=\"dataframe\">\n",
       "  <thead>\n",
       "    <tr>\n",
       "      <th></th>\n",
       "      <th colspan=\"12\" halign=\"left\">mean</th>\n",
       "    </tr>\n",
       "    <tr>\n",
       "      <th>company</th>\n",
       "      <th>LG전자</th>\n",
       "      <th>기타</th>\n",
       "      <th>다이슨</th>\n",
       "      <th>대유위니아</th>\n",
       "      <th>로엘</th>\n",
       "      <th>벤타</th>\n",
       "      <th>블루에어</th>\n",
       "      <th>삼성전자</th>\n",
       "      <th>삼지아이티</th>\n",
       "      <th>샤오미</th>\n",
       "      <th>위닉스</th>\n",
       "      <th>쿠쿠전자</th>\n",
       "    </tr>\n",
       "  </thead>\n",
       "  <tbody>\n",
       "    <tr>\n",
       "      <th>points</th>\n",
       "      <td>95.769231</td>\n",
       "      <td>91.363636</td>\n",
       "      <td>95.0</td>\n",
       "      <td>94.0</td>\n",
       "      <td>98.5</td>\n",
       "      <td>92.0</td>\n",
       "      <td>96.0</td>\n",
       "      <td>94.37037</td>\n",
       "      <td>96.5</td>\n",
       "      <td>90.75</td>\n",
       "      <td>95.368421</td>\n",
       "      <td>99.0</td>\n",
       "    </tr>\n",
       "  </tbody>\n",
       "</table>\n",
       "</div>"
      ],
      "text/plain": [
       "              mean                                                           \\\n",
       "company       LG전자         기타   다이슨 대유위니아    로엘    벤타  블루에어      삼성전자 삼지아이티   \n",
       "points   95.769231  91.363636  95.0  94.0  98.5  92.0  96.0  94.37037  96.5   \n",
       "\n",
       "                                 \n",
       "company    샤오미        위닉스  쿠쿠전자  \n",
       "points   90.75  95.368421  99.0  "
      ]
     },
     "execution_count": 13,
     "metadata": {},
     "output_type": "execute_result"
    }
   ],
   "source": [
    "pv = pd.pivot_table(df, columns=[\"company\"], values=['points'], aggfunc=[np.mean], fill_value=0)\n",
    "pv"
   ]
  },
  {
   "cell_type": "code",
   "execution_count": 14,
   "metadata": {
    "collapsed": true
   },
   "outputs": [],
   "source": [
    "pv.to_excel(r'C:\\Users\\USER\\Desktop\\프로젝트\\csv\\크롤링파일\\공기청정기\\companypoint.xlsx', encoding='UTF-8')"
   ]
  },
  {
   "cell_type": "code",
   "execution_count": 15,
   "metadata": {},
   "outputs": [
    {
     "data": {
      "text/html": [
       "<div>\n",
       "<style>\n",
       "    .dataframe thead tr:only-child th {\n",
       "        text-align: right;\n",
       "    }\n",
       "\n",
       "    .dataframe thead th {\n",
       "        text-align: left;\n",
       "    }\n",
       "\n",
       "    .dataframe tbody tr th {\n",
       "        vertical-align: top;\n",
       "    }\n",
       "</style>\n",
       "<table border=\"1\" class=\"dataframe\">\n",
       "  <thead>\n",
       "    <tr style=\"text-align: right;\">\n",
       "      <th></th>\n",
       "      <th>points</th>\n",
       "    </tr>\n",
       "    <tr>\n",
       "      <th>company</th>\n",
       "      <th></th>\n",
       "    </tr>\n",
       "  </thead>\n",
       "  <tbody>\n",
       "    <tr>\n",
       "      <th>LG전자</th>\n",
       "      <td>95.769231</td>\n",
       "    </tr>\n",
       "    <tr>\n",
       "      <th>다이슨</th>\n",
       "      <td>95.000000</td>\n",
       "    </tr>\n",
       "    <tr>\n",
       "      <th>대유위니아</th>\n",
       "      <td>94.000000</td>\n",
       "    </tr>\n",
       "    <tr>\n",
       "      <th>로엘</th>\n",
       "      <td>98.500000</td>\n",
       "    </tr>\n",
       "    <tr>\n",
       "      <th>벤타</th>\n",
       "      <td>92.000000</td>\n",
       "    </tr>\n",
       "  </tbody>\n",
       "</table>\n",
       "</div>"
      ],
      "text/plain": [
       "            points\n",
       "company           \n",
       "LG전자     95.769231\n",
       "다이슨      95.000000\n",
       "대유위니아    94.000000\n",
       "로엘       98.500000\n",
       "벤타       92.000000"
      ]
     },
     "execution_count": 15,
     "metadata": {},
     "output_type": "execute_result"
    }
   ],
   "source": [
    "cp = pd.read_excel(r'C:\\Users\\USER\\Desktop\\프로젝트\\csv\\크롤링파일\\공기청정기\\companypoint2.xlsx', encoding='UTF-8')\n",
    "cp.set_index('company', inplace=True)\n",
    "cp.head()"
   ]
  },
  {
   "cell_type": "code",
   "execution_count": 16,
   "metadata": {},
   "outputs": [
    {
     "data": {
      "image/png": "[encoded data removed]",
      "text/plain": [
       "<Figure size 648x576 with 1 Axes>"
      ]
     },
     "metadata": {},
     "output_type": "display_data"
    }
   ],
   "source": [
    "cp['points'].sort_values().plot(kind='barh', figsize=(9,8))\n",
    "plt.title('TOP90 중 회사별 평균 평점')\n",
    "plt.ylabel('회사명')\n",
    "plt.xlabel('평균평점')\n",
    "plt.show()"
   ]
  },
  {
   "cell_type": "code",
   "execution_count": 17,
   "metadata": {},
   "outputs": [
    {
     "data": {
      "text/html": [
       "<div>\n",
       "<style>\n",
       "    .dataframe thead tr:only-child th {\n",
       "        text-align: right;\n",
       "    }\n",
       "\n",
       "    .dataframe thead th {\n",
       "        text-align: left;\n",
       "    }\n",
       "\n",
       "    .dataframe tbody tr th {\n",
       "        vertical-align: top;\n",
       "    }\n",
       "</style>\n",
       "<table border=\"1\" class=\"dataframe\">\n",
       "  <thead>\n",
       "    <tr>\n",
       "      <th></th>\n",
       "      <th colspan=\"12\" halign=\"left\">mean</th>\n",
       "    </tr>\n",
       "    <tr>\n",
       "      <th>company</th>\n",
       "      <th>LG전자</th>\n",
       "      <th>기타</th>\n",
       "      <th>다이슨</th>\n",
       "      <th>대유위니아</th>\n",
       "      <th>로엘</th>\n",
       "      <th>벤타</th>\n",
       "      <th>블루에어</th>\n",
       "      <th>삼성전자</th>\n",
       "      <th>삼지아이티</th>\n",
       "      <th>샤오미</th>\n",
       "      <th>위닉스</th>\n",
       "      <th>쿠쿠전자</th>\n",
       "    </tr>\n",
       "  </thead>\n",
       "  <tbody>\n",
       "    <tr>\n",
       "      <th>reviews</th>\n",
       "      <td>417.538462</td>\n",
       "      <td>446.909091</td>\n",
       "      <td>456.25</td>\n",
       "      <td>256.0</td>\n",
       "      <td>55.0</td>\n",
       "      <td>210.5</td>\n",
       "      <td>221.0</td>\n",
       "      <td>445.037037</td>\n",
       "      <td>3179.5</td>\n",
       "      <td>536.0</td>\n",
       "      <td>1027.421053</td>\n",
       "      <td>324.0</td>\n",
       "    </tr>\n",
       "  </tbody>\n",
       "</table>\n",
       "</div>"
      ],
      "text/plain": [
       "               mean                                                 \\\n",
       "company        LG전자          기타     다이슨  대유위니아    로엘     벤타   블루에어   \n",
       "reviews  417.538462  446.909091  456.25  256.0  55.0  210.5  221.0   \n",
       "\n",
       "                                                        \n",
       "company        삼성전자   삼지아이티    샤오미          위닉스   쿠쿠전자  \n",
       "reviews  445.037037  3179.5  536.0  1027.421053  324.0  "
      ]
     },
     "execution_count": 17,
     "metadata": {},
     "output_type": "execute_result"
    }
   ],
   "source": [
    "pv2 = pd.pivot_table(df, columns=[\"company\"], values=['reviews'], aggfunc=[np.mean], fill_value=0)\n",
    "pv2"
   ]
  },
  {
   "cell_type": "code",
   "execution_count": 18,
   "metadata": {},
   "outputs": [
    {
     "data": {
      "text/html": [
       "<div>\n",
       "<style>\n",
       "    .dataframe thead tr:only-child th {\n",
       "        text-align: right;\n",
       "    }\n",
       "\n",
       "    .dataframe thead th {\n",
       "        text-align: left;\n",
       "    }\n",
       "\n",
       "    .dataframe tbody tr th {\n",
       "        vertical-align: top;\n",
       "    }\n",
       "</style>\n",
       "<table border=\"1\" class=\"dataframe\">\n",
       "  <thead>\n",
       "    <tr style=\"text-align: right;\">\n",
       "      <th></th>\n",
       "      <th>reviews</th>\n",
       "    </tr>\n",
       "    <tr>\n",
       "      <th>company</th>\n",
       "      <th></th>\n",
       "    </tr>\n",
       "  </thead>\n",
       "  <tbody>\n",
       "    <tr>\n",
       "      <th>LG전자</th>\n",
       "      <td>417.538462</td>\n",
       "    </tr>\n",
       "    <tr>\n",
       "      <th>다이슨</th>\n",
       "      <td>456.250000</td>\n",
       "    </tr>\n",
       "    <tr>\n",
       "      <th>대유위니아</th>\n",
       "      <td>256.000000</td>\n",
       "    </tr>\n",
       "    <tr>\n",
       "      <th>로엘</th>\n",
       "      <td>55.000000</td>\n",
       "    </tr>\n",
       "    <tr>\n",
       "      <th>벤타</th>\n",
       "      <td>210.500000</td>\n",
       "    </tr>\n",
       "  </tbody>\n",
       "</table>\n",
       "</div>"
      ],
      "text/plain": [
       "            reviews\n",
       "company            \n",
       "LG전자     417.538462\n",
       "다이슨      456.250000\n",
       "대유위니아    256.000000\n",
       "로엘        55.000000\n",
       "벤타       210.500000"
      ]
     },
     "execution_count": 18,
     "metadata": {},
     "output_type": "execute_result"
    }
   ],
   "source": [
    "cr = pd.read_excel(r'C:\\Users\\USER\\Desktop\\프로젝트\\csv\\크롤링파일\\공기청정기\\companyreviews2.xlsx', encoding='UTF-8')\n",
    "cr.set_index('company', inplace=True)\n",
    "cr.head()"
   ]
  },
  {
   "cell_type": "code",
   "execution_count": 19,
   "metadata": {},
   "outputs": [
    {
     "data": {
      "image/png": "[encoded data removed]",
      "text/plain": [
       "<Figure size 648x576 with 1 Axes>"
      ]
     },
     "metadata": {},
     "output_type": "display_data"
    }
   ],
   "source": [
    "cr['reviews'].sort_values().plot(kind='barh', figsize=(9,8))\n",
    "plt.title('TOP90 중 회사별 평균 리뷰수')\n",
    "plt.ylabel('회사명')\n",
    "plt.xlabel('평균리뷰수')\n",
    "plt.show()"
   ]
  },
  {
   "cell_type": "code",
   "execution_count": 20,
   "metadata": {},
   "outputs": [
    {
     "data": {
      "text/html": [
       "<div>\n",
       "<style>\n",
       "    .dataframe thead tr:only-child th {\n",
       "        text-align: right;\n",
       "    }\n",
       "\n",
       "    .dataframe thead th {\n",
       "        text-align: left;\n",
       "    }\n",
       "\n",
       "    .dataframe tbody tr th {\n",
       "        vertical-align: top;\n",
       "    }\n",
       "</style>\n",
       "<table border=\"1\" class=\"dataframe\">\n",
       "  <thead>\n",
       "    <tr>\n",
       "      <th></th>\n",
       "      <th colspan=\"12\" halign=\"left\">mean</th>\n",
       "    </tr>\n",
       "    <tr>\n",
       "      <th>company</th>\n",
       "      <th>LG전자</th>\n",
       "      <th>기타</th>\n",
       "      <th>다이슨</th>\n",
       "      <th>대유위니아</th>\n",
       "      <th>로엘</th>\n",
       "      <th>벤타</th>\n",
       "      <th>블루에어</th>\n",
       "      <th>삼성전자</th>\n",
       "      <th>삼지아이티</th>\n",
       "      <th>샤오미</th>\n",
       "      <th>위닉스</th>\n",
       "      <th>쿠쿠전자</th>\n",
       "    </tr>\n",
       "  </thead>\n",
       "  <tbody>\n",
       "    <tr>\n",
       "      <th>pricecs</th>\n",
       "      <td>182.461538</td>\n",
       "      <td>92.181818</td>\n",
       "      <td>269.25</td>\n",
       "      <td>86.5</td>\n",
       "      <td>4.0</td>\n",
       "      <td>76.5</td>\n",
       "      <td>92.5</td>\n",
       "      <td>197.555556</td>\n",
       "      <td>17.5</td>\n",
       "      <td>107.5</td>\n",
       "      <td>82.421053</td>\n",
       "      <td>164.0</td>\n",
       "    </tr>\n",
       "  </tbody>\n",
       "</table>\n",
       "</div>"
      ],
      "text/plain": [
       "               mean                                                        \\\n",
       "company        LG전자         기타     다이슨 대유위니아   로엘    벤타  블루에어        삼성전자   \n",
       "pricecs  182.461538  92.181818  269.25  86.5  4.0  76.5  92.5  197.555556   \n",
       "\n",
       "                                        \n",
       "company 삼지아이티    샤오미        위닉스   쿠쿠전자  \n",
       "pricecs  17.5  107.5  82.421053  164.0  "
      ]
     },
     "execution_count": 20,
     "metadata": {},
     "output_type": "execute_result"
    }
   ],
   "source": [
    "pv3 = pd.pivot_table(df, columns=[\"company\"], values=['pricecs'], aggfunc=[np.mean], fill_value=0)\n",
    "pv3"
   ]
  },
  {
   "cell_type": "code",
   "execution_count": 21,
   "metadata": {
    "collapsed": true
   },
   "outputs": [],
   "source": [
    "pv3.to_excel(r'C:\\Users\\USER\\Desktop\\프로젝트\\csv\\크롤링파일\\공기청정기\\companypcs.xlsx', encoding='UTF-8')"
   ]
  },
  {
   "cell_type": "code",
   "execution_count": 22,
   "metadata": {},
   "outputs": [
    {
     "data": {
      "text/html": [
       "<div>\n",
       "<style>\n",
       "    .dataframe thead tr:only-child th {\n",
       "        text-align: right;\n",
       "    }\n",
       "\n",
       "    .dataframe thead th {\n",
       "        text-align: left;\n",
       "    }\n",
       "\n",
       "    .dataframe tbody tr th {\n",
       "        vertical-align: top;\n",
       "    }\n",
       "</style>\n",
       "<table border=\"1\" class=\"dataframe\">\n",
       "  <thead>\n",
       "    <tr style=\"text-align: right;\">\n",
       "      <th></th>\n",
       "      <th>pricecs</th>\n",
       "    </tr>\n",
       "    <tr>\n",
       "      <th>company</th>\n",
       "      <th></th>\n",
       "    </tr>\n",
       "  </thead>\n",
       "  <tbody>\n",
       "    <tr>\n",
       "      <th>LG전자</th>\n",
       "      <td>182.461538</td>\n",
       "    </tr>\n",
       "    <tr>\n",
       "      <th>다이슨</th>\n",
       "      <td>269.250000</td>\n",
       "    </tr>\n",
       "    <tr>\n",
       "      <th>대유위니아</th>\n",
       "      <td>86.500000</td>\n",
       "    </tr>\n",
       "    <tr>\n",
       "      <th>로엘</th>\n",
       "      <td>4.000000</td>\n",
       "    </tr>\n",
       "    <tr>\n",
       "      <th>벤타</th>\n",
       "      <td>76.500000</td>\n",
       "    </tr>\n",
       "  </tbody>\n",
       "</table>\n",
       "</div>"
      ],
      "text/plain": [
       "            pricecs\n",
       "company            \n",
       "LG전자     182.461538\n",
       "다이슨      269.250000\n",
       "대유위니아     86.500000\n",
       "로엘         4.000000\n",
       "벤타        76.500000"
      ]
     },
     "execution_count": 22,
     "metadata": {},
     "output_type": "execute_result"
    }
   ],
   "source": [
    "cpcs = pd.read_excel(r'C:\\Users\\USER\\Desktop\\프로젝트\\csv\\크롤링파일\\공기청정기\\companypcs2.xlsx', encoding='UTF-8')\n",
    "cpcs.set_index('company', inplace=True)\n",
    "cpcs.head()"
   ]
  },
  {
   "cell_type": "code",
   "execution_count": 23,
   "metadata": {},
   "outputs": [
    {
     "data": {
      "image/png": "[encoded data removed]",
      "text/plain": [
       "<Figure size 648x576 with 1 Axes>"
      ]
     },
     "metadata": {},
     "output_type": "display_data"
    }
   ],
   "source": [
    "cpcs['pricecs'].sort_values().plot(kind='barh', figsize=(9,8))\n",
    "plt.title('TOP90 중 회사별 평균 가격비교쇼핑몰수')\n",
    "plt.ylabel('회사명')\n",
    "plt.xlabel('가격비교쇼핑몰수')\n",
    "plt.show()"
   ]
  },
  {
   "cell_type": "code",
   "execution_count": 24,
   "metadata": {},
   "outputs": [
    {
     "data": {
      "text/html": [
       "<div>\n",
       "<style>\n",
       "    .dataframe thead tr:only-child th {\n",
       "        text-align: right;\n",
       "    }\n",
       "\n",
       "    .dataframe thead th {\n",
       "        text-align: left;\n",
       "    }\n",
       "\n",
       "    .dataframe tbody tr th {\n",
       "        vertical-align: top;\n",
       "    }\n",
       "</style>\n",
       "<table border=\"1\" class=\"dataframe\">\n",
       "  <thead>\n",
       "    <tr style=\"text-align: right;\">\n",
       "      <th></th>\n",
       "      <th>name</th>\n",
       "      <th>price</th>\n",
       "      <th>points</th>\n",
       "      <th>reviews</th>\n",
       "      <th>pricecs</th>\n",
       "      <th>company</th>\n",
       "      <th>count</th>\n",
       "    </tr>\n",
       "  </thead>\n",
       "  <tbody>\n",
       "    <tr>\n",
       "      <th>0</th>\n",
       "      <td>파인텍 네퓨어 황사방역용 마스크 KF94 대형 (1개입)</td>\n",
       "      <td>610</td>\n",
       "      <td>92.0</td>\n",
       "      <td>356</td>\n",
       "      <td>114</td>\n",
       "      <td>파인텍</td>\n",
       "      <td>1</td>\n",
       "    </tr>\n",
       "    <tr>\n",
       "      <th>1</th>\n",
       "      <td>아보브네이처 애니쉴드 황사 방역마스크 화이트 KF94 대형 (1개입)</td>\n",
       "      <td>550</td>\n",
       "      <td>93.0</td>\n",
       "      <td>121</td>\n",
       "      <td>40</td>\n",
       "      <td>아보브네이처</td>\n",
       "      <td>1</td>\n",
       "    </tr>\n",
       "    <tr>\n",
       "      <th>2</th>\n",
       "      <td>한국OGK 에어가드 KF94</td>\n",
       "      <td>17020</td>\n",
       "      <td>87.0</td>\n",
       "      <td>126</td>\n",
       "      <td>59</td>\n",
       "      <td>기타</td>\n",
       "      <td>1</td>\n",
       "    </tr>\n",
       "    <tr>\n",
       "      <th>3</th>\n",
       "      <td>유한킴벌리 크리넥스 방역용마스크 KF94 대형 (1개입)</td>\n",
       "      <td>1110</td>\n",
       "      <td>94.0</td>\n",
       "      <td>272</td>\n",
       "      <td>132</td>\n",
       "      <td>유한킴벌리</td>\n",
       "      <td>1</td>\n",
       "    </tr>\n",
       "    <tr>\n",
       "      <th>4</th>\n",
       "      <td>아보브네이처 닥터쉴드 황사방역용 마스크 KF94 대형 (1개입)</td>\n",
       "      <td>570</td>\n",
       "      <td>100.0</td>\n",
       "      <td>3</td>\n",
       "      <td>8</td>\n",
       "      <td>아보브네이처</td>\n",
       "      <td>1</td>\n",
       "    </tr>\n",
       "  </tbody>\n",
       "</table>\n",
       "</div>"
      ],
      "text/plain": [
       "                                     name  price  points  reviews  pricecs  \\\n",
       "0         파인텍 네퓨어 황사방역용 마스크 KF94 대형 (1개입)    610    92.0      356      114   \n",
       "1  아보브네이처 애니쉴드 황사 방역마스크 화이트 KF94 대형 (1개입)    550    93.0      121       40   \n",
       "2                         한국OGK 에어가드 KF94  17020    87.0      126       59   \n",
       "3         유한킴벌리 크리넥스 방역용마스크 KF94 대형 (1개입)   1110    94.0      272      132   \n",
       "4     아보브네이처 닥터쉴드 황사방역용 마스크 KF94 대형 (1개입)    570   100.0        3        8   \n",
       "\n",
       "  company  count  \n",
       "0     파인텍      1  \n",
       "1  아보브네이처      1  \n",
       "2      기타      1  \n",
       "3   유한킴벌리      1  \n",
       "4  아보브네이처      1  "
      ]
     },
     "execution_count": 24,
     "metadata": {},
     "output_type": "execute_result"
    }
   ],
   "source": [
    "df2 = pd.read_excel (r'C:\\Users\\USER\\Desktop\\프로젝트\\csv\\크롤링파일\\마스크\\top90_mask.xlsx', encoding = 'utf-8')\n",
    "df2.head()"
   ]
  },
  {
   "cell_type": "code",
   "execution_count": 25,
   "metadata": {
    "collapsed": true
   },
   "outputs": [],
   "source": [
    "df2.set_index('company', inplace=True)"
   ]
  },
  {
   "cell_type": "code",
   "execution_count": 26,
   "metadata": {},
   "outputs": [
    {
     "data": {
      "text/html": [
       "<div>\n",
       "<style>\n",
       "    .dataframe thead tr:only-child th {\n",
       "        text-align: right;\n",
       "    }\n",
       "\n",
       "    .dataframe thead th {\n",
       "        text-align: left;\n",
       "    }\n",
       "\n",
       "    .dataframe tbody tr th {\n",
       "        vertical-align: top;\n",
       "    }\n",
       "</style>\n",
       "<table border=\"1\" class=\"dataframe\">\n",
       "  <thead>\n",
       "    <tr style=\"text-align: right;\">\n",
       "      <th></th>\n",
       "      <th>count</th>\n",
       "    </tr>\n",
       "    <tr>\n",
       "      <th>company</th>\n",
       "      <th></th>\n",
       "    </tr>\n",
       "  </thead>\n",
       "  <tbody>\n",
       "    <tr>\n",
       "      <th>3M</th>\n",
       "      <td>20</td>\n",
       "    </tr>\n",
       "    <tr>\n",
       "      <th>LG생활건강</th>\n",
       "      <td>2</td>\n",
       "    </tr>\n",
       "    <tr>\n",
       "      <th>기타</th>\n",
       "      <td>29</td>\n",
       "    </tr>\n",
       "    <tr>\n",
       "      <th>도부라이프텍</th>\n",
       "      <td>3</td>\n",
       "    </tr>\n",
       "    <tr>\n",
       "      <th>듀폰</th>\n",
       "      <td>2</td>\n",
       "    </tr>\n",
       "    <tr>\n",
       "      <th>샤오미</th>\n",
       "      <td>4</td>\n",
       "    </tr>\n",
       "    <tr>\n",
       "      <th>아보브네이처</th>\n",
       "      <td>3</td>\n",
       "    </tr>\n",
       "    <tr>\n",
       "      <th>에버그린</th>\n",
       "      <td>3</td>\n",
       "    </tr>\n",
       "    <tr>\n",
       "      <th>웰킵스</th>\n",
       "      <td>2</td>\n",
       "    </tr>\n",
       "    <tr>\n",
       "      <th>유한킴벌리</th>\n",
       "      <td>9</td>\n",
       "    </tr>\n",
       "    <tr>\n",
       "      <th>장정산업</th>\n",
       "      <td>4</td>\n",
       "    </tr>\n",
       "    <tr>\n",
       "      <th>케이에프마스크</th>\n",
       "      <td>2</td>\n",
       "    </tr>\n",
       "    <tr>\n",
       "      <th>크린웰</th>\n",
       "      <td>2</td>\n",
       "    </tr>\n",
       "    <tr>\n",
       "      <th>파인텍</th>\n",
       "      <td>3</td>\n",
       "    </tr>\n",
       "    <tr>\n",
       "      <th>하늘숨</th>\n",
       "      <td>2</td>\n",
       "    </tr>\n",
       "  </tbody>\n",
       "</table>\n",
       "</div>"
      ],
      "text/plain": [
       "         count\n",
       "company       \n",
       "3M          20\n",
       "LG생활건강       2\n",
       "기타          29\n",
       "도부라이프텍       3\n",
       "듀폰           2\n",
       "샤오미          4\n",
       "아보브네이처       3\n",
       "에버그린         3\n",
       "웰킵스          2\n",
       "유한킴벌리        9\n",
       "장정산업         4\n",
       "케이에프마스크      2\n",
       "크린웰          2\n",
       "파인텍          3\n",
       "하늘숨          2"
      ]
     },
     "execution_count": 26,
     "metadata": {},
     "output_type": "execute_result"
    }
   ],
   "source": [
    "df2.groupby('company').count()[['count']]"
   ]
  },
  {
   "cell_type": "code",
   "execution_count": 27,
   "metadata": {},
   "outputs": [
    {
     "data": {
      "text/html": [
       "<div>\n",
       "<style>\n",
       "    .dataframe thead tr:only-child th {\n",
       "        text-align: right;\n",
       "    }\n",
       "\n",
       "    .dataframe thead th {\n",
       "        text-align: left;\n",
       "    }\n",
       "\n",
       "    .dataframe tbody tr th {\n",
       "        vertical-align: top;\n",
       "    }\n",
       "</style>\n",
       "<table border=\"1\" class=\"dataframe\">\n",
       "  <thead>\n",
       "    <tr style=\"text-align: right;\">\n",
       "      <th></th>\n",
       "      <th>3M</th>\n",
       "      <th>LG생활건강</th>\n",
       "      <th>도부라이프텍</th>\n",
       "      <th>듀폰</th>\n",
       "      <th>샤오미</th>\n",
       "      <th>아보브네이처</th>\n",
       "      <th>에버그린</th>\n",
       "      <th>웰킵스</th>\n",
       "      <th>유한킴벌리</th>\n",
       "      <th>장정산업</th>\n",
       "      <th>케이에프마스크</th>\n",
       "      <th>크린웰</th>\n",
       "      <th>파인텍</th>\n",
       "      <th>하늘숨</th>\n",
       "    </tr>\n",
       "    <tr>\n",
       "      <th>company</th>\n",
       "      <th></th>\n",
       "      <th></th>\n",
       "      <th></th>\n",
       "      <th></th>\n",
       "      <th></th>\n",
       "      <th></th>\n",
       "      <th></th>\n",
       "      <th></th>\n",
       "      <th></th>\n",
       "      <th></th>\n",
       "      <th></th>\n",
       "      <th></th>\n",
       "      <th></th>\n",
       "      <th></th>\n",
       "    </tr>\n",
       "  </thead>\n",
       "  <tbody>\n",
       "    <tr>\n",
       "      <th>count</th>\n",
       "      <td>20</td>\n",
       "      <td>2</td>\n",
       "      <td>3</td>\n",
       "      <td>2</td>\n",
       "      <td>4</td>\n",
       "      <td>3</td>\n",
       "      <td>3</td>\n",
       "      <td>2</td>\n",
       "      <td>9</td>\n",
       "      <td>4</td>\n",
       "      <td>2</td>\n",
       "      <td>2</td>\n",
       "      <td>3</td>\n",
       "      <td>2</td>\n",
       "    </tr>\n",
       "  </tbody>\n",
       "</table>\n",
       "</div>"
      ],
      "text/plain": [
       "         3M  LG생활건강  도부라이프텍  듀폰  샤오미  아보브네이처  에버그린  웰킵스  유한킴벌리  장정산업  케이에프마스크  \\\n",
       "company                                                                         \n",
       "count    20       2       3   2    4       3     3    2      9     4        2   \n",
       "\n",
       "         크린웰  파인텍  하늘숨  \n",
       "company                 \n",
       "count      2    3    2  "
      ]
     },
     "execution_count": 27,
     "metadata": {},
     "output_type": "execute_result"
    }
   ],
   "source": [
    "cc3 = pd.read_excel (r'C:\\Users\\USER\\Desktop\\프로젝트\\csv\\크롤링파일\\마스크\\companycount.xlsx',encoding = 'utf-8')\n",
    "cc3.set_index('company', inplace=True)\n",
    "cc3"
   ]
  },
  {
   "cell_type": "code",
   "execution_count": 28,
   "metadata": {},
   "outputs": [
    {
     "data": {
      "text/html": [
       "<div>\n",
       "<style>\n",
       "    .dataframe thead tr:only-child th {\n",
       "        text-align: right;\n",
       "    }\n",
       "\n",
       "    .dataframe thead th {\n",
       "        text-align: left;\n",
       "    }\n",
       "\n",
       "    .dataframe tbody tr th {\n",
       "        vertical-align: top;\n",
       "    }\n",
       "</style>\n",
       "<table border=\"1\" class=\"dataframe\">\n",
       "  <thead>\n",
       "    <tr style=\"text-align: right;\">\n",
       "      <th></th>\n",
       "      <th>count</th>\n",
       "    </tr>\n",
       "    <tr>\n",
       "      <th>company</th>\n",
       "      <th></th>\n",
       "    </tr>\n",
       "  </thead>\n",
       "  <tbody>\n",
       "    <tr>\n",
       "      <th>3M</th>\n",
       "      <td>20</td>\n",
       "    </tr>\n",
       "    <tr>\n",
       "      <th>LG생활건강</th>\n",
       "      <td>2</td>\n",
       "    </tr>\n",
       "    <tr>\n",
       "      <th>도부라이프텍</th>\n",
       "      <td>3</td>\n",
       "    </tr>\n",
       "    <tr>\n",
       "      <th>듀폰</th>\n",
       "      <td>2</td>\n",
       "    </tr>\n",
       "    <tr>\n",
       "      <th>샤오미</th>\n",
       "      <td>4</td>\n",
       "    </tr>\n",
       "    <tr>\n",
       "      <th>아보브네이처</th>\n",
       "      <td>3</td>\n",
       "    </tr>\n",
       "    <tr>\n",
       "      <th>에버그린</th>\n",
       "      <td>3</td>\n",
       "    </tr>\n",
       "    <tr>\n",
       "      <th>웰킵스</th>\n",
       "      <td>2</td>\n",
       "    </tr>\n",
       "    <tr>\n",
       "      <th>유한킴벌리</th>\n",
       "      <td>9</td>\n",
       "    </tr>\n",
       "    <tr>\n",
       "      <th>장정산업</th>\n",
       "      <td>4</td>\n",
       "    </tr>\n",
       "    <tr>\n",
       "      <th>케이에프마스크</th>\n",
       "      <td>2</td>\n",
       "    </tr>\n",
       "    <tr>\n",
       "      <th>크린웰</th>\n",
       "      <td>2</td>\n",
       "    </tr>\n",
       "    <tr>\n",
       "      <th>파인텍</th>\n",
       "      <td>3</td>\n",
       "    </tr>\n",
       "    <tr>\n",
       "      <th>하늘숨</th>\n",
       "      <td>2</td>\n",
       "    </tr>\n",
       "  </tbody>\n",
       "</table>\n",
       "</div>"
      ],
      "text/plain": [
       "         count\n",
       "company       \n",
       "3M          20\n",
       "LG생활건강       2\n",
       "도부라이프텍       3\n",
       "듀폰           2\n",
       "샤오미          4\n",
       "아보브네이처       3\n",
       "에버그린         3\n",
       "웰킵스          2\n",
       "유한킴벌리        9\n",
       "장정산업         4\n",
       "케이에프마스크      2\n",
       "크린웰          2\n",
       "파인텍          3\n",
       "하늘숨          2"
      ]
     },
     "execution_count": 28,
     "metadata": {},
     "output_type": "execute_result"
    }
   ],
   "source": [
    "cc4 = pd.read_excel (r'C:\\Users\\USER\\Desktop\\프로젝트\\csv\\크롤링파일\\마스크\\companycount2.xlsx',encoding = 'utf-8')\n",
    "cc4.set_index('company', inplace=True)\n",
    "cc4"
   ]
  },
  {
   "cell_type": "code",
   "execution_count": 29,
   "metadata": {},
   "outputs": [
    {
     "data": {
      "image/png": "[encoded data removed]",
      "text/plain": [
       "<Figure size 648x576 with 1 Axes>"
      ]
     },
     "metadata": {},
     "output_type": "display_data"
    }
   ],
   "source": [
    "cc4['count'].sort_values().plot(kind='barh', figsize=(9,8))\n",
    "plt.title('TOP90 중 회사별 제품개수')\n",
    "plt.ylabel('회사명')\n",
    "plt.xlabel('제품개수')\n",
    "plt.show()"
   ]
  },
  {
   "cell_type": "code",
   "execution_count": 30,
   "metadata": {},
   "outputs": [
    {
     "data": {
      "text/html": [
       "<div>\n",
       "<style>\n",
       "    .dataframe thead tr:only-child th {\n",
       "        text-align: right;\n",
       "    }\n",
       "\n",
       "    .dataframe thead th {\n",
       "        text-align: left;\n",
       "    }\n",
       "\n",
       "    .dataframe tbody tr th {\n",
       "        vertical-align: top;\n",
       "    }\n",
       "</style>\n",
       "<table border=\"1\" class=\"dataframe\">\n",
       "  <thead>\n",
       "    <tr>\n",
       "      <th></th>\n",
       "      <th colspan=\"12\" halign=\"left\">mean</th>\n",
       "    </tr>\n",
       "    <tr>\n",
       "      <th>company</th>\n",
       "      <th>LG전자</th>\n",
       "      <th>기타</th>\n",
       "      <th>다이슨</th>\n",
       "      <th>대유위니아</th>\n",
       "      <th>로엘</th>\n",
       "      <th>벤타</th>\n",
       "      <th>블루에어</th>\n",
       "      <th>삼성전자</th>\n",
       "      <th>삼지아이티</th>\n",
       "      <th>샤오미</th>\n",
       "      <th>위닉스</th>\n",
       "      <th>쿠쿠전자</th>\n",
       "    </tr>\n",
       "  </thead>\n",
       "  <tbody>\n",
       "    <tr>\n",
       "      <th>points</th>\n",
       "      <td>95.769231</td>\n",
       "      <td>91.363636</td>\n",
       "      <td>95.0</td>\n",
       "      <td>94.0</td>\n",
       "      <td>98.5</td>\n",
       "      <td>92.0</td>\n",
       "      <td>96.0</td>\n",
       "      <td>94.37037</td>\n",
       "      <td>96.5</td>\n",
       "      <td>90.75</td>\n",
       "      <td>95.368421</td>\n",
       "      <td>99.0</td>\n",
       "    </tr>\n",
       "  </tbody>\n",
       "</table>\n",
       "</div>"
      ],
      "text/plain": [
       "              mean                                                           \\\n",
       "company       LG전자         기타   다이슨 대유위니아    로엘    벤타  블루에어      삼성전자 삼지아이티   \n",
       "points   95.769231  91.363636  95.0  94.0  98.5  92.0  96.0  94.37037  96.5   \n",
       "\n",
       "                                 \n",
       "company    샤오미        위닉스  쿠쿠전자  \n",
       "points   90.75  95.368421  99.0  "
      ]
     },
     "execution_count": 30,
     "metadata": {},
     "output_type": "execute_result"
    }
   ],
   "source": [
    "pvs = pd.pivot_table(df, columns=[\"company\"], values=['points'], aggfunc=[np.mean], fill_value=0)\n",
    "pvs"
   ]
  },
  {
   "cell_type": "code",
   "execution_count": 31,
   "metadata": {
    "collapsed": true
   },
   "outputs": [],
   "source": [
    "pvs.to_excel(r'C:\\Users\\USER\\Desktop\\프로젝트\\csv\\크롤링파일\\마스크\\companypoint.xlsx', encoding='UTF-8')"
   ]
  },
  {
   "cell_type": "code",
   "execution_count": 32,
   "metadata": {},
   "outputs": [
    {
     "data": {
      "text/html": [
       "<div>\n",
       "<style>\n",
       "    .dataframe thead tr:only-child th {\n",
       "        text-align: right;\n",
       "    }\n",
       "\n",
       "    .dataframe thead th {\n",
       "        text-align: left;\n",
       "    }\n",
       "\n",
       "    .dataframe tbody tr th {\n",
       "        vertical-align: top;\n",
       "    }\n",
       "</style>\n",
       "<table border=\"1\" class=\"dataframe\">\n",
       "  <thead>\n",
       "    <tr style=\"text-align: right;\">\n",
       "      <th></th>\n",
       "      <th>points</th>\n",
       "    </tr>\n",
       "    <tr>\n",
       "      <th>company</th>\n",
       "      <th></th>\n",
       "    </tr>\n",
       "  </thead>\n",
       "  <tbody>\n",
       "    <tr>\n",
       "      <th>3M</th>\n",
       "      <td>93.611111</td>\n",
       "    </tr>\n",
       "    <tr>\n",
       "      <th>LG생활건강</th>\n",
       "      <td>97.500000</td>\n",
       "    </tr>\n",
       "    <tr>\n",
       "      <th>도부라이프텍</th>\n",
       "      <td>98.000000</td>\n",
       "    </tr>\n",
       "    <tr>\n",
       "      <th>듀폰</th>\n",
       "      <td>92.000000</td>\n",
       "    </tr>\n",
       "    <tr>\n",
       "      <th>샤오미</th>\n",
       "      <td>75.666667</td>\n",
       "    </tr>\n",
       "  </tbody>\n",
       "</table>\n",
       "</div>"
      ],
      "text/plain": [
       "            points\n",
       "company           \n",
       "3M       93.611111\n",
       "LG생활건강   97.500000\n",
       "도부라이프텍   98.000000\n",
       "듀폰       92.000000\n",
       "샤오미      75.666667"
      ]
     },
     "execution_count": 32,
     "metadata": {},
     "output_type": "execute_result"
    }
   ],
   "source": [
    "cp2 = pd.read_excel(r'C:\\Users\\USER\\Desktop\\프로젝트\\csv\\크롤링파일\\마스크\\companypoint2.xlsx', encoding='UTF-8')\n",
    "cp2.set_index('company', inplace=True)\n",
    "cp2.head()"
   ]
  },
  {
   "cell_type": "code",
   "execution_count": 33,
   "metadata": {},
   "outputs": [
    {
     "data": {
      "image/png": "[encoded data removed]",
      "text/plain": [
       "<Figure size 648x576 with 1 Axes>"
      ]
     },
     "metadata": {},
     "output_type": "display_data"
    }
   ],
   "source": [
    "cp2['points'].sort_values().plot(kind='barh', figsize=(9,8))\n",
    "plt.title('TOP90 중 회사별 평균 평점')\n",
    "plt.ylabel('회사명')\n",
    "plt.xlabel('평균평점')\n",
    "plt.show()"
   ]
  },
  {
   "cell_type": "code",
   "execution_count": 34,
   "metadata": {},
   "outputs": [
    {
     "data": {
      "text/html": [
       "<div>\n",
       "<style>\n",
       "    .dataframe thead tr:only-child th {\n",
       "        text-align: right;\n",
       "    }\n",
       "\n",
       "    .dataframe thead th {\n",
       "        text-align: left;\n",
       "    }\n",
       "\n",
       "    .dataframe tbody tr th {\n",
       "        vertical-align: top;\n",
       "    }\n",
       "</style>\n",
       "<table border=\"1\" class=\"dataframe\">\n",
       "  <thead>\n",
       "    <tr>\n",
       "      <th></th>\n",
       "      <th colspan=\"12\" halign=\"left\">mean</th>\n",
       "    </tr>\n",
       "    <tr>\n",
       "      <th>company</th>\n",
       "      <th>LG전자</th>\n",
       "      <th>기타</th>\n",
       "      <th>다이슨</th>\n",
       "      <th>대유위니아</th>\n",
       "      <th>로엘</th>\n",
       "      <th>벤타</th>\n",
       "      <th>블루에어</th>\n",
       "      <th>삼성전자</th>\n",
       "      <th>삼지아이티</th>\n",
       "      <th>샤오미</th>\n",
       "      <th>위닉스</th>\n",
       "      <th>쿠쿠전자</th>\n",
       "    </tr>\n",
       "  </thead>\n",
       "  <tbody>\n",
       "    <tr>\n",
       "      <th>reviews</th>\n",
       "      <td>417.538462</td>\n",
       "      <td>446.909091</td>\n",
       "      <td>456.25</td>\n",
       "      <td>256.0</td>\n",
       "      <td>55.0</td>\n",
       "      <td>210.5</td>\n",
       "      <td>221.0</td>\n",
       "      <td>445.037037</td>\n",
       "      <td>3179.5</td>\n",
       "      <td>536.0</td>\n",
       "      <td>1027.421053</td>\n",
       "      <td>324.0</td>\n",
       "    </tr>\n",
       "  </tbody>\n",
       "</table>\n",
       "</div>"
      ],
      "text/plain": [
       "               mean                                                 \\\n",
       "company        LG전자          기타     다이슨  대유위니아    로엘     벤타   블루에어   \n",
       "reviews  417.538462  446.909091  456.25  256.0  55.0  210.5  221.0   \n",
       "\n",
       "                                                        \n",
       "company        삼성전자   삼지아이티    샤오미          위닉스   쿠쿠전자  \n",
       "reviews  445.037037  3179.5  536.0  1027.421053  324.0  "
      ]
     },
     "execution_count": 34,
     "metadata": {},
     "output_type": "execute_result"
    }
   ],
   "source": [
    "pvs2 = pd.pivot_table(df, columns=[\"company\"], values=['reviews'], aggfunc=[np.mean], fill_value=0)\n",
    "pvs2"
   ]
  },
  {
   "cell_type": "code",
   "execution_count": 35,
   "metadata": {
    "collapsed": true
   },
   "outputs": [],
   "source": [
    "pvs2.to_excel(r'C:\\Users\\USER\\Desktop\\프로젝트\\csv\\크롤링파일\\마스크\\companyreviews.xlsx', encoding='UTF-8')"
   ]
  },
  {
   "cell_type": "code",
   "execution_count": 36,
   "metadata": {},
   "outputs": [
    {
     "data": {
      "text/html": [
       "<div>\n",
       "<style>\n",
       "    .dataframe thead tr:only-child th {\n",
       "        text-align: right;\n",
       "    }\n",
       "\n",
       "    .dataframe thead th {\n",
       "        text-align: left;\n",
       "    }\n",
       "\n",
       "    .dataframe tbody tr th {\n",
       "        vertical-align: top;\n",
       "    }\n",
       "</style>\n",
       "<table border=\"1\" class=\"dataframe\">\n",
       "  <thead>\n",
       "    <tr style=\"text-align: right;\">\n",
       "      <th></th>\n",
       "      <th>reviews</th>\n",
       "    </tr>\n",
       "    <tr>\n",
       "      <th>company</th>\n",
       "      <th></th>\n",
       "    </tr>\n",
       "  </thead>\n",
       "  <tbody>\n",
       "    <tr>\n",
       "      <th>3M</th>\n",
       "      <td>141.450000</td>\n",
       "    </tr>\n",
       "    <tr>\n",
       "      <th>LG생활건강</th>\n",
       "      <td>11.000000</td>\n",
       "    </tr>\n",
       "    <tr>\n",
       "      <th>도부라이프텍</th>\n",
       "      <td>48.333333</td>\n",
       "    </tr>\n",
       "    <tr>\n",
       "      <th>듀폰</th>\n",
       "      <td>25.500000</td>\n",
       "    </tr>\n",
       "    <tr>\n",
       "      <th>샤오미</th>\n",
       "      <td>59.750000</td>\n",
       "    </tr>\n",
       "  </tbody>\n",
       "</table>\n",
       "</div>"
      ],
      "text/plain": [
       "            reviews\n",
       "company            \n",
       "3M       141.450000\n",
       "LG생활건강    11.000000\n",
       "도부라이프텍    48.333333\n",
       "듀폰        25.500000\n",
       "샤오미       59.750000"
      ]
     },
     "execution_count": 36,
     "metadata": {},
     "output_type": "execute_result"
    }
   ],
   "source": [
    "cr2 = pd.read_excel(r'C:\\Users\\USER\\Desktop\\프로젝트\\csv\\크롤링파일\\마스크\\companyreviews2.xlsx', encoding='UTF-8')\n",
    "cr2.set_index('company', inplace=True)\n",
    "cr2.head()"
   ]
  },
  {
   "cell_type": "code",
   "execution_count": 37,
   "metadata": {},
   "outputs": [
    {
     "data": {
      "image/png": "[encoded data removed]",
      "text/plain": [
       "<Figure size 648x576 with 1 Axes>"
      ]
     },
     "metadata": {},
     "output_type": "display_data"
    }
   ],
   "source": [
    "cr2['reviews'].sort_values().plot(kind='barh', figsize=(9,8))\n",
    "plt.title('TOP90 중 회사별 평균 리뷰수')\n",
    "plt.ylabel('회사명')\n",
    "plt.xlabel('평균리뷰수')\n",
    "plt.show()\n"
   ]
  },
  {
   "cell_type": "code",
   "execution_count": 38,
   "metadata": {},
   "outputs": [
    {
     "data": {
      "text/html": [
       "<div>\n",
       "<style>\n",
       "    .dataframe thead tr:only-child th {\n",
       "        text-align: right;\n",
       "    }\n",
       "\n",
       "    .dataframe thead th {\n",
       "        text-align: left;\n",
       "    }\n",
       "\n",
       "    .dataframe tbody tr th {\n",
       "        vertical-align: top;\n",
       "    }\n",
       "</style>\n",
       "<table border=\"1\" class=\"dataframe\">\n",
       "  <thead>\n",
       "    <tr>\n",
       "      <th></th>\n",
       "      <th colspan=\"12\" halign=\"left\">mean</th>\n",
       "    </tr>\n",
       "    <tr>\n",
       "      <th>company</th>\n",
       "      <th>LG전자</th>\n",
       "      <th>기타</th>\n",
       "      <th>다이슨</th>\n",
       "      <th>대유위니아</th>\n",
       "      <th>로엘</th>\n",
       "      <th>벤타</th>\n",
       "      <th>블루에어</th>\n",
       "      <th>삼성전자</th>\n",
       "      <th>삼지아이티</th>\n",
       "      <th>샤오미</th>\n",
       "      <th>위닉스</th>\n",
       "      <th>쿠쿠전자</th>\n",
       "    </tr>\n",
       "  </thead>\n",
       "  <tbody>\n",
       "    <tr>\n",
       "      <th>pricecs</th>\n",
       "      <td>182.461538</td>\n",
       "      <td>92.181818</td>\n",
       "      <td>269.25</td>\n",
       "      <td>86.5</td>\n",
       "      <td>4.0</td>\n",
       "      <td>76.5</td>\n",
       "      <td>92.5</td>\n",
       "      <td>197.555556</td>\n",
       "      <td>17.5</td>\n",
       "      <td>107.5</td>\n",
       "      <td>82.421053</td>\n",
       "      <td>164.0</td>\n",
       "    </tr>\n",
       "  </tbody>\n",
       "</table>\n",
       "</div>"
      ],
      "text/plain": [
       "               mean                                                        \\\n",
       "company        LG전자         기타     다이슨 대유위니아   로엘    벤타  블루에어        삼성전자   \n",
       "pricecs  182.461538  92.181818  269.25  86.5  4.0  76.5  92.5  197.555556   \n",
       "\n",
       "                                        \n",
       "company 삼지아이티    샤오미        위닉스   쿠쿠전자  \n",
       "pricecs  17.5  107.5  82.421053  164.0  "
      ]
     },
     "execution_count": 38,
     "metadata": {},
     "output_type": "execute_result"
    }
   ],
   "source": [
    "pvs3 = pd.pivot_table(df, columns=[\"company\"], values=['pricecs'], aggfunc=[np.mean], fill_value=0)\n",
    "pvs3"
   ]
  },
  {
   "cell_type": "code",
   "execution_count": 39,
   "metadata": {
    "collapsed": true
   },
   "outputs": [],
   "source": [
    "pvs3.to_excel(r'C:\\Users\\USER\\Desktop\\프로젝트\\csv\\크롤링파일\\마스크\\companypcs.xlsx', encoding='UTF-8')"
   ]
  },
  {
   "cell_type": "code",
   "execution_count": 40,
   "metadata": {},
   "outputs": [
    {
     "data": {
      "text/html": [
       "<div>\n",
       "<style>\n",
       "    .dataframe thead tr:only-child th {\n",
       "        text-align: right;\n",
       "    }\n",
       "\n",
       "    .dataframe thead th {\n",
       "        text-align: left;\n",
       "    }\n",
       "\n",
       "    .dataframe tbody tr th {\n",
       "        vertical-align: top;\n",
       "    }\n",
       "</style>\n",
       "<table border=\"1\" class=\"dataframe\">\n",
       "  <thead>\n",
       "    <tr style=\"text-align: right;\">\n",
       "      <th></th>\n",
       "      <th>pricecs</th>\n",
       "    </tr>\n",
       "    <tr>\n",
       "      <th>company</th>\n",
       "      <th></th>\n",
       "    </tr>\n",
       "  </thead>\n",
       "  <tbody>\n",
       "    <tr>\n",
       "      <th>3M</th>\n",
       "      <td>187.45</td>\n",
       "    </tr>\n",
       "    <tr>\n",
       "      <th>LG생활건강</th>\n",
       "      <td>12.50</td>\n",
       "    </tr>\n",
       "    <tr>\n",
       "      <th>도부라이프텍</th>\n",
       "      <td>23.00</td>\n",
       "    </tr>\n",
       "    <tr>\n",
       "      <th>듀폰</th>\n",
       "      <td>16.50</td>\n",
       "    </tr>\n",
       "    <tr>\n",
       "      <th>샤오미</th>\n",
       "      <td>20.50</td>\n",
       "    </tr>\n",
       "  </tbody>\n",
       "</table>\n",
       "</div>"
      ],
      "text/plain": [
       "         pricecs\n",
       "company         \n",
       "3M        187.45\n",
       "LG생활건강     12.50\n",
       "도부라이프텍     23.00\n",
       "듀폰         16.50\n",
       "샤오미        20.50"
      ]
     },
     "execution_count": 40,
     "metadata": {},
     "output_type": "execute_result"
    }
   ],
   "source": [
    "cpcs2 = pd.read_excel(r'C:\\Users\\USER\\Desktop\\프로젝트\\csv\\크롤링파일\\마스크\\companypcs2.xlsx', encoding='UTF-8')\n",
    "cpcs2.set_index('company', inplace=True)\n",
    "cpcs2.head()"
   ]
  },
  {
   "cell_type": "code",
   "execution_count": 41,
   "metadata": {},
   "outputs": [
    {
     "data": {
      "image/png": "[encoded data removed]",
      "text/plain": [
       "<Figure size 648x576 with 1 Axes>"
      ]
     },
     "metadata": {},
     "output_type": "display_data"
    }
   ],
   "source": [
    "cpcs2['pricecs'].sort_values().plot(kind='barh', figsize=(9,8))\n",
    "plt.title('TOP90 중 회사별 평균 가격비교쇼핑몰수')\n",
    "plt.ylabel('회사명')\n",
    "plt.xlabel('가격비교쇼핑몰수')\n",
    "plt.show()"
   ]
  },
  {
   "cell_type": "code",
   "execution_count": 42,
   "metadata": {},
   "outputs": [
    {
     "data": {
      "text/html": [
       "<div>\n",
       "<style>\n",
       "    .dataframe thead tr:only-child th {\n",
       "        text-align: right;\n",
       "    }\n",
       "\n",
       "    .dataframe thead th {\n",
       "        text-align: left;\n",
       "    }\n",
       "\n",
       "    .dataframe tbody tr th {\n",
       "        vertical-align: top;\n",
       "    }\n",
       "</style>\n",
       "<table border=\"1\" class=\"dataframe\">\n",
       "  <thead>\n",
       "    <tr>\n",
       "      <th></th>\n",
       "      <th colspan=\"15\" halign=\"left\">mean</th>\n",
       "    </tr>\n",
       "    <tr>\n",
       "      <th>company</th>\n",
       "      <th>3M</th>\n",
       "      <th>LG생활건강</th>\n",
       "      <th>기타</th>\n",
       "      <th>도부라이프텍</th>\n",
       "      <th>듀폰</th>\n",
       "      <th>샤오미</th>\n",
       "      <th>아보브네이처</th>\n",
       "      <th>에버그린</th>\n",
       "      <th>웰킵스</th>\n",
       "      <th>유한킴벌리</th>\n",
       "      <th>장정산업</th>\n",
       "      <th>케이에프마스크</th>\n",
       "      <th>크린웰</th>\n",
       "      <th>파인텍</th>\n",
       "      <th>하늘숨</th>\n",
       "    </tr>\n",
       "  </thead>\n",
       "  <tbody>\n",
       "    <tr>\n",
       "      <th>price</th>\n",
       "      <td>12927.5</td>\n",
       "      <td>1035.0</td>\n",
       "      <td>7262.758621</td>\n",
       "      <td>5706.666667</td>\n",
       "      <td>13525.0</td>\n",
       "      <td>10675.0</td>\n",
       "      <td>610.0</td>\n",
       "      <td>3443.333333</td>\n",
       "      <td>855.0</td>\n",
       "      <td>3472.222222</td>\n",
       "      <td>475.0</td>\n",
       "      <td>1080.0</td>\n",
       "      <td>710.0</td>\n",
       "      <td>686.666667</td>\n",
       "      <td>490.0</td>\n",
       "    </tr>\n",
       "  </tbody>\n",
       "</table>\n",
       "</div>"
      ],
      "text/plain": [
       "            mean                                                             \\\n",
       "company       3M  LG생활건강           기타       도부라이프텍       듀폰      샤오미 아보브네이처   \n",
       "price    12927.5  1035.0  7262.758621  5706.666667  13525.0  10675.0  610.0   \n",
       "\n",
       "                                                                            \\\n",
       "company         에버그린    웰킵스        유한킴벌리   장정산업 케이에프마스크    크린웰         파인텍   \n",
       "price    3443.333333  855.0  3472.222222  475.0  1080.0  710.0  686.666667   \n",
       "\n",
       "                \n",
       "company    하늘숨  \n",
       "price    490.0  "
      ]
     },
     "execution_count": 42,
     "metadata": {},
     "output_type": "execute_result"
    }
   ],
   "source": [
    "pvp2 = pd.pivot_table(df2, columns=[\"company\"], values=['price'], aggfunc=[np.mean], fill_value=0)\n",
    "pvp2"
   ]
  },
  {
   "cell_type": "code",
   "execution_count": 43,
   "metadata": {
    "collapsed": true
   },
   "outputs": [],
   "source": [
    "pvp2.to_excel(r'C:\\Users\\USER\\Desktop\\프로젝트\\csv\\크롤링파일\\마스크\\companyprice.xlsx', encoding='UTF-8')"
   ]
  },
  {
   "cell_type": "code",
   "execution_count": 44,
   "metadata": {},
   "outputs": [
    {
     "data": {
      "text/html": [
       "<div>\n",
       "<style>\n",
       "    .dataframe thead tr:only-child th {\n",
       "        text-align: right;\n",
       "    }\n",
       "\n",
       "    .dataframe thead th {\n",
       "        text-align: left;\n",
       "    }\n",
       "\n",
       "    .dataframe tbody tr th {\n",
       "        vertical-align: top;\n",
       "    }\n",
       "</style>\n",
       "<table border=\"1\" class=\"dataframe\">\n",
       "  <thead>\n",
       "    <tr style=\"text-align: right;\">\n",
       "      <th></th>\n",
       "      <th>price</th>\n",
       "    </tr>\n",
       "    <tr>\n",
       "      <th>company</th>\n",
       "      <th></th>\n",
       "    </tr>\n",
       "  </thead>\n",
       "  <tbody>\n",
       "    <tr>\n",
       "      <th>3M</th>\n",
       "      <td>12930</td>\n",
       "    </tr>\n",
       "    <tr>\n",
       "      <th>LG생활건강</th>\n",
       "      <td>1040</td>\n",
       "    </tr>\n",
       "    <tr>\n",
       "      <th>도부라이프텍</th>\n",
       "      <td>5710</td>\n",
       "    </tr>\n",
       "    <tr>\n",
       "      <th>듀폰</th>\n",
       "      <td>13530</td>\n",
       "    </tr>\n",
       "    <tr>\n",
       "      <th>샤오미</th>\n",
       "      <td>10680</td>\n",
       "    </tr>\n",
       "  </tbody>\n",
       "</table>\n",
       "</div>"
      ],
      "text/plain": [
       "         price\n",
       "company       \n",
       "3M       12930\n",
       "LG생활건강    1040\n",
       "도부라이프텍    5710\n",
       "듀폰       13530\n",
       "샤오미      10680"
      ]
     },
     "execution_count": 44,
     "metadata": {},
     "output_type": "execute_result"
    }
   ],
   "source": [
    "cpr2 = pd.read_excel(r'C:\\Users\\USER\\Desktop\\프로젝트\\csv\\크롤링파일\\마스크\\companyprice2.xlsx', encoding='UTF-8')\n",
    "cpr2.set_index('company', inplace=True)\n",
    "cpr2.head()"
   ]
  },
  {
   "cell_type": "code",
   "execution_count": 45,
   "metadata": {},
   "outputs": [
    {
     "data": {
      "image/png": "[encoded data removed]",
      "text/plain": [
       "<Figure size 648x576 with 1 Axes>"
      ]
     },
     "metadata": {},
     "output_type": "display_data"
    }
   ],
   "source": [
    "cpr2['price'].sort_values().plot(kind='barh', figsize=(9,8))\n",
    "plt.title('TOP90 중 회사별 평균가격')\n",
    "plt.ylabel('회사명')\n",
    "plt.xlabel('평균가격')\n",
    "plt.show()"
   ]
  },
  {
   "cell_type": "code",
   "execution_count": null,
   "metadata": {
    "collapsed": true
   },
   "outputs": [],
   "source": []
  }
 ],
 "metadata": {
  "kernelspec": {
   "display_name": "Python 3",
   "language": "python",
   "name": "python3"
  },
  "language_info": {
   "codemirror_mode": {
    "name": "ipython",
    "version": 3
   },
   "file_extension": ".py",
   "mimetype": "text/x-python",
   "name": "python",
   "nbconvert_exporter": "python",
   "pygments_lexer": "ipython3",
   "version": "3.6.2"
  }
 },
 "nbformat": 4,
 "nbformat_minor": 2
}
